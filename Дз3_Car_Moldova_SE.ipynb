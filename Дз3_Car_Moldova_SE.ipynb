{
  "nbformat": 4,
  "nbformat_minor": 0,
  "metadata": {
    "kernelspec": {
      "display_name": "Python 3",
      "language": "python",
      "name": "python3"
    },
    "language_info": {
      "codemirror_mode": {
        "name": "ipython",
        "version": 3
      },
      "file_extension": ".py",
      "mimetype": "text/x-python",
      "name": "python",
      "nbconvert_exporter": "python",
      "pygments_lexer": "ipython3",
      "version": "3.7.4"
    },
    "toc": {
      "base_numbering": 1,
      "nav_menu": {},
      "number_sections": true,
      "sideBar": true,
      "skip_h1_title": false,
      "title_cell": "Table of Contents",
      "title_sidebar": "Contents",
      "toc_cell": false,
      "toc_position": {
        "height": "calc(100% - 180px)",
        "left": "10px",
        "top": "150px",
        "width": "165px"
      },
      "toc_section_display": true,
      "toc_window_display": true
    },
    "colab": {
      "provenance": [],
      "include_colab_link": true
    }
  },
  "cells": [
    {
      "cell_type": "markdown",
      "metadata": {
        "id": "view-in-github",
        "colab_type": "text"
      },
      "source": [
        "<a href=\"https://colab.research.google.com/github/lizalanchu/Cars_Moldova_homework1-/blob/main/%D0%94%D0%B73_Car_Moldova_SE.ipynb\" target=\"_parent\"><img src=\"https://colab.research.google.com/assets/colab-badge.svg\" alt=\"Open In Colab\"/></a>"
      ]
    },
    {
      "cell_type": "markdown",
      "metadata": {
        "id": "hSA1kgiKvrTG"
      },
      "source": [
        "# Набор данных\n",
        "\n",
        "**Оценка стоимости  и типа трансмиссии по данным продаж автомобилей на вторичном рынке Молдавии**"
      ]
    },
    {
      "cell_type": "markdown",
      "metadata": {
        "id": "9WAiW__nvrTK"
      },
      "source": [
        "Набор данных представляет собой статистику параметров автомобилей на вторичном рынке в Молдавии. \n",
        "\n",
        "Набор включает ряд категориальных и численных значений, составляющих одну запись (строку). Число записей можно найти как число строк.\n",
        "\n",
        "Каждый столбец в записи — это отдельный параметр. \n",
        "\n",
        "Среди указанных параметров приведены целевой для задачи предсказания (регрессии) - цена автомобиля.\n",
        "\n",
        " Также среди параметров есть целевой для задачи классификации - тип трансмиссии. \n",
        " \n",
        " Последняя задача может быть рассмотрена, например, как пример задачи на заполнение пропусков (если продавец не указал соответствующий параметр)."
      ]
    },
    {
      "cell_type": "markdown",
      "metadata": {
        "id": "GjqQDt2hvrTL"
      },
      "source": [
        "# Import библиотек"
      ]
    },
    {
      "cell_type": "code",
      "metadata": {
        "id": "W1M6Kfo6vrTM"
      },
      "source": [
        "import pandas as pd\n",
        "from google.colab import files \n",
        "\n",
        "import numpy as np\n",
        "import matplotlib.pyplot as plt \n",
        "import seaborn as sns; sns.set()\n",
        "\n",
        "from sklearn.model_selection import train_test_split\n",
        "from sklearn.preprocessing import MinMaxScaler"
      ],
      "execution_count": 58,
      "outputs": []
    },
    {
      "cell_type": "markdown",
      "source": [
        "#Oчищенный набор данных"
      ],
      "metadata": {
        "id": "_BkQkXwQYRwo"
      }
    },
    {
      "cell_type": "markdown",
      "metadata": {
        "id": "uedX35hnsN7x"
      },
      "source": [
        "## Загрузка данных на Google Drive"
      ]
    },
    {
      "cell_type": "code",
      "metadata": {
        "id": "zT1QSzWprKTA",
        "colab": {
          "base_uri": "https://localhost:8080/",
          "height": 74
        },
        "outputId": "ba5242e4-429f-48ca-bab2-48d71ac44fa9"
      },
      "source": [
        "uploaded = files.upload()"
      ],
      "execution_count": 59,
      "outputs": [
        {
          "output_type": "display_data",
          "data": {
            "text/plain": [
              "<IPython.core.display.HTML object>"
            ],
            "text/html": [
              "\n",
              "     <input type=\"file\" id=\"files-506eca50-c014-4439-9f45-c30243015bea\" name=\"files[]\" multiple disabled\n",
              "        style=\"border:none\" />\n",
              "     <output id=\"result-506eca50-c014-4439-9f45-c30243015bea\">\n",
              "      Upload widget is only available when the cell has been executed in the\n",
              "      current browser session. Please rerun this cell to enable.\n",
              "      </output>\n",
              "      <script>// Copyright 2017 Google LLC\n",
              "//\n",
              "// Licensed under the Apache License, Version 2.0 (the \"License\");\n",
              "// you may not use this file except in compliance with the License.\n",
              "// You may obtain a copy of the License at\n",
              "//\n",
              "//      http://www.apache.org/licenses/LICENSE-2.0\n",
              "//\n",
              "// Unless required by applicable law or agreed to in writing, software\n",
              "// distributed under the License is distributed on an \"AS IS\" BASIS,\n",
              "// WITHOUT WARRANTIES OR CONDITIONS OF ANY KIND, either express or implied.\n",
              "// See the License for the specific language governing permissions and\n",
              "// limitations under the License.\n",
              "\n",
              "/**\n",
              " * @fileoverview Helpers for google.colab Python module.\n",
              " */\n",
              "(function(scope) {\n",
              "function span(text, styleAttributes = {}) {\n",
              "  const element = document.createElement('span');\n",
              "  element.textContent = text;\n",
              "  for (const key of Object.keys(styleAttributes)) {\n",
              "    element.style[key] = styleAttributes[key];\n",
              "  }\n",
              "  return element;\n",
              "}\n",
              "\n",
              "// Max number of bytes which will be uploaded at a time.\n",
              "const MAX_PAYLOAD_SIZE = 100 * 1024;\n",
              "\n",
              "function _uploadFiles(inputId, outputId) {\n",
              "  const steps = uploadFilesStep(inputId, outputId);\n",
              "  const outputElement = document.getElementById(outputId);\n",
              "  // Cache steps on the outputElement to make it available for the next call\n",
              "  // to uploadFilesContinue from Python.\n",
              "  outputElement.steps = steps;\n",
              "\n",
              "  return _uploadFilesContinue(outputId);\n",
              "}\n",
              "\n",
              "// This is roughly an async generator (not supported in the browser yet),\n",
              "// where there are multiple asynchronous steps and the Python side is going\n",
              "// to poll for completion of each step.\n",
              "// This uses a Promise to block the python side on completion of each step,\n",
              "// then passes the result of the previous step as the input to the next step.\n",
              "function _uploadFilesContinue(outputId) {\n",
              "  const outputElement = document.getElementById(outputId);\n",
              "  const steps = outputElement.steps;\n",
              "\n",
              "  const next = steps.next(outputElement.lastPromiseValue);\n",
              "  return Promise.resolve(next.value.promise).then((value) => {\n",
              "    // Cache the last promise value to make it available to the next\n",
              "    // step of the generator.\n",
              "    outputElement.lastPromiseValue = value;\n",
              "    return next.value.response;\n",
              "  });\n",
              "}\n",
              "\n",
              "/**\n",
              " * Generator function which is called between each async step of the upload\n",
              " * process.\n",
              " * @param {string} inputId Element ID of the input file picker element.\n",
              " * @param {string} outputId Element ID of the output display.\n",
              " * @return {!Iterable<!Object>} Iterable of next steps.\n",
              " */\n",
              "function* uploadFilesStep(inputId, outputId) {\n",
              "  const inputElement = document.getElementById(inputId);\n",
              "  inputElement.disabled = false;\n",
              "\n",
              "  const outputElement = document.getElementById(outputId);\n",
              "  outputElement.innerHTML = '';\n",
              "\n",
              "  const pickedPromise = new Promise((resolve) => {\n",
              "    inputElement.addEventListener('change', (e) => {\n",
              "      resolve(e.target.files);\n",
              "    });\n",
              "  });\n",
              "\n",
              "  const cancel = document.createElement('button');\n",
              "  inputElement.parentElement.appendChild(cancel);\n",
              "  cancel.textContent = 'Cancel upload';\n",
              "  const cancelPromise = new Promise((resolve) => {\n",
              "    cancel.onclick = () => {\n",
              "      resolve(null);\n",
              "    };\n",
              "  });\n",
              "\n",
              "  // Wait for the user to pick the files.\n",
              "  const files = yield {\n",
              "    promise: Promise.race([pickedPromise, cancelPromise]),\n",
              "    response: {\n",
              "      action: 'starting',\n",
              "    }\n",
              "  };\n",
              "\n",
              "  cancel.remove();\n",
              "\n",
              "  // Disable the input element since further picks are not allowed.\n",
              "  inputElement.disabled = true;\n",
              "\n",
              "  if (!files) {\n",
              "    return {\n",
              "      response: {\n",
              "        action: 'complete',\n",
              "      }\n",
              "    };\n",
              "  }\n",
              "\n",
              "  for (const file of files) {\n",
              "    const li = document.createElement('li');\n",
              "    li.append(span(file.name, {fontWeight: 'bold'}));\n",
              "    li.append(span(\n",
              "        `(${file.type || 'n/a'}) - ${file.size} bytes, ` +\n",
              "        `last modified: ${\n",
              "            file.lastModifiedDate ? file.lastModifiedDate.toLocaleDateString() :\n",
              "                                    'n/a'} - `));\n",
              "    const percent = span('0% done');\n",
              "    li.appendChild(percent);\n",
              "\n",
              "    outputElement.appendChild(li);\n",
              "\n",
              "    const fileDataPromise = new Promise((resolve) => {\n",
              "      const reader = new FileReader();\n",
              "      reader.onload = (e) => {\n",
              "        resolve(e.target.result);\n",
              "      };\n",
              "      reader.readAsArrayBuffer(file);\n",
              "    });\n",
              "    // Wait for the data to be ready.\n",
              "    let fileData = yield {\n",
              "      promise: fileDataPromise,\n",
              "      response: {\n",
              "        action: 'continue',\n",
              "      }\n",
              "    };\n",
              "\n",
              "    // Use a chunked sending to avoid message size limits. See b/62115660.\n",
              "    let position = 0;\n",
              "    do {\n",
              "      const length = Math.min(fileData.byteLength - position, MAX_PAYLOAD_SIZE);\n",
              "      const chunk = new Uint8Array(fileData, position, length);\n",
              "      position += length;\n",
              "\n",
              "      const base64 = btoa(String.fromCharCode.apply(null, chunk));\n",
              "      yield {\n",
              "        response: {\n",
              "          action: 'append',\n",
              "          file: file.name,\n",
              "          data: base64,\n",
              "        },\n",
              "      };\n",
              "\n",
              "      let percentDone = fileData.byteLength === 0 ?\n",
              "          100 :\n",
              "          Math.round((position / fileData.byteLength) * 100);\n",
              "      percent.textContent = `${percentDone}% done`;\n",
              "\n",
              "    } while (position < fileData.byteLength);\n",
              "  }\n",
              "\n",
              "  // All done.\n",
              "  yield {\n",
              "    response: {\n",
              "      action: 'complete',\n",
              "    }\n",
              "  };\n",
              "}\n",
              "\n",
              "scope.google = scope.google || {};\n",
              "scope.google.colab = scope.google.colab || {};\n",
              "scope.google.colab._files = {\n",
              "  _uploadFiles,\n",
              "  _uploadFilesContinue,\n",
              "};\n",
              "})(self);\n",
              "</script> "
            ]
          },
          "metadata": {}
        },
        {
          "output_type": "stream",
          "name": "stdout",
          "text": [
            "Saving cars_moldova_cat_num.csv to cars_moldova_cat_num.csv\n"
          ]
        }
      ]
    },
    {
      "cell_type": "markdown",
      "metadata": {
        "id": "6KkCjdKUsHIr"
      },
      "source": [
        "## Считываем файл в DataFrame\n",
        "\n"
      ]
    },
    {
      "cell_type": "markdown",
      "metadata": {
        "id": "yy41LWzK2bsP"
      },
      "source": [
        "метод .read_csv(path,delimiter) "
      ]
    },
    {
      "cell_type": "code",
      "metadata": {
        "id": "aSOyj3trvrTO",
        "colab": {
          "base_uri": "https://localhost:8080/",
          "height": 424
        },
        "outputId": "a010d7d3-c9d1-4f54-f03d-1f067b0ee629"
      },
      "source": [
        "df = pd.read_csv('/content/cars_moldova_cat_num.csv', delimiter = ',')\n",
        "df"
      ],
      "execution_count": 60,
      "outputs": [
        {
          "output_type": "execute_result",
          "data": {
            "text/plain": [
              "       Make  Model  Year  Style  Distance  Engine_capacity(cm3)  Fuel_type  \\\n",
              "0        40     92  2011      4  195000.0                1800.0          2   \n",
              "1        32     62  2014     11  135000.0                1500.0          0   \n",
              "2        32     71  2012     11  110000.0                1500.0          0   \n",
              "3        28     23  2006     11  200000.0                1600.0          3   \n",
              "4        23    124  2000      5  300000.0                2200.0          0   \n",
              "...     ...    ...   ...    ...       ...                   ...        ...   \n",
              "32069    42     88  2016     10   88000.0                1800.0          4   \n",
              "32070    19     53  2002      3  225000.0                1800.0          3   \n",
              "32071     6     77  2015     11   89000.0                1500.0          0   \n",
              "32072    22     10  2006      1  370000.0                2000.0          0   \n",
              "32073    32     62  2006      6  300000.0                1500.0          0   \n",
              "\n",
              "       Transmission  Price(euro)       km_year  \n",
              "0                 1       7750.0  17727.272727  \n",
              "1                 0       8550.0  16875.000000  \n",
              "2                 0       6550.0  11000.000000  \n",
              "3                 0       4100.0  12500.000000  \n",
              "4                 0       3490.0  13636.363636  \n",
              "...             ...          ...           ...  \n",
              "32069             1      11500.0  14666.666667  \n",
              "32070             0       4400.0  11250.000000  \n",
              "32071             0       7000.0  12714.285714  \n",
              "32072             0       4000.0  23125.000000  \n",
              "32073             0       4000.0  18750.000000  \n",
              "\n",
              "[32074 rows x 10 columns]"
            ],
            "text/html": [
              "\n",
              "  <div id=\"df-c3bcc765-92f4-4f0e-b101-aafcb2d497c5\">\n",
              "    <div class=\"colab-df-container\">\n",
              "      <div>\n",
              "<style scoped>\n",
              "    .dataframe tbody tr th:only-of-type {\n",
              "        vertical-align: middle;\n",
              "    }\n",
              "\n",
              "    .dataframe tbody tr th {\n",
              "        vertical-align: top;\n",
              "    }\n",
              "\n",
              "    .dataframe thead th {\n",
              "        text-align: right;\n",
              "    }\n",
              "</style>\n",
              "<table border=\"1\" class=\"dataframe\">\n",
              "  <thead>\n",
              "    <tr style=\"text-align: right;\">\n",
              "      <th></th>\n",
              "      <th>Make</th>\n",
              "      <th>Model</th>\n",
              "      <th>Year</th>\n",
              "      <th>Style</th>\n",
              "      <th>Distance</th>\n",
              "      <th>Engine_capacity(cm3)</th>\n",
              "      <th>Fuel_type</th>\n",
              "      <th>Transmission</th>\n",
              "      <th>Price(euro)</th>\n",
              "      <th>km_year</th>\n",
              "    </tr>\n",
              "  </thead>\n",
              "  <tbody>\n",
              "    <tr>\n",
              "      <th>0</th>\n",
              "      <td>40</td>\n",
              "      <td>92</td>\n",
              "      <td>2011</td>\n",
              "      <td>4</td>\n",
              "      <td>195000.0</td>\n",
              "      <td>1800.0</td>\n",
              "      <td>2</td>\n",
              "      <td>1</td>\n",
              "      <td>7750.0</td>\n",
              "      <td>17727.272727</td>\n",
              "    </tr>\n",
              "    <tr>\n",
              "      <th>1</th>\n",
              "      <td>32</td>\n",
              "      <td>62</td>\n",
              "      <td>2014</td>\n",
              "      <td>11</td>\n",
              "      <td>135000.0</td>\n",
              "      <td>1500.0</td>\n",
              "      <td>0</td>\n",
              "      <td>0</td>\n",
              "      <td>8550.0</td>\n",
              "      <td>16875.000000</td>\n",
              "    </tr>\n",
              "    <tr>\n",
              "      <th>2</th>\n",
              "      <td>32</td>\n",
              "      <td>71</td>\n",
              "      <td>2012</td>\n",
              "      <td>11</td>\n",
              "      <td>110000.0</td>\n",
              "      <td>1500.0</td>\n",
              "      <td>0</td>\n",
              "      <td>0</td>\n",
              "      <td>6550.0</td>\n",
              "      <td>11000.000000</td>\n",
              "    </tr>\n",
              "    <tr>\n",
              "      <th>3</th>\n",
              "      <td>28</td>\n",
              "      <td>23</td>\n",
              "      <td>2006</td>\n",
              "      <td>11</td>\n",
              "      <td>200000.0</td>\n",
              "      <td>1600.0</td>\n",
              "      <td>3</td>\n",
              "      <td>0</td>\n",
              "      <td>4100.0</td>\n",
              "      <td>12500.000000</td>\n",
              "    </tr>\n",
              "    <tr>\n",
              "      <th>4</th>\n",
              "      <td>23</td>\n",
              "      <td>124</td>\n",
              "      <td>2000</td>\n",
              "      <td>5</td>\n",
              "      <td>300000.0</td>\n",
              "      <td>2200.0</td>\n",
              "      <td>0</td>\n",
              "      <td>0</td>\n",
              "      <td>3490.0</td>\n",
              "      <td>13636.363636</td>\n",
              "    </tr>\n",
              "    <tr>\n",
              "      <th>...</th>\n",
              "      <td>...</td>\n",
              "      <td>...</td>\n",
              "      <td>...</td>\n",
              "      <td>...</td>\n",
              "      <td>...</td>\n",
              "      <td>...</td>\n",
              "      <td>...</td>\n",
              "      <td>...</td>\n",
              "      <td>...</td>\n",
              "      <td>...</td>\n",
              "    </tr>\n",
              "    <tr>\n",
              "      <th>32069</th>\n",
              "      <td>42</td>\n",
              "      <td>88</td>\n",
              "      <td>2016</td>\n",
              "      <td>10</td>\n",
              "      <td>88000.0</td>\n",
              "      <td>1800.0</td>\n",
              "      <td>4</td>\n",
              "      <td>1</td>\n",
              "      <td>11500.0</td>\n",
              "      <td>14666.666667</td>\n",
              "    </tr>\n",
              "    <tr>\n",
              "      <th>32070</th>\n",
              "      <td>19</td>\n",
              "      <td>53</td>\n",
              "      <td>2002</td>\n",
              "      <td>3</td>\n",
              "      <td>225000.0</td>\n",
              "      <td>1800.0</td>\n",
              "      <td>3</td>\n",
              "      <td>0</td>\n",
              "      <td>4400.0</td>\n",
              "      <td>11250.000000</td>\n",
              "    </tr>\n",
              "    <tr>\n",
              "      <th>32071</th>\n",
              "      <td>6</td>\n",
              "      <td>77</td>\n",
              "      <td>2015</td>\n",
              "      <td>11</td>\n",
              "      <td>89000.0</td>\n",
              "      <td>1500.0</td>\n",
              "      <td>0</td>\n",
              "      <td>0</td>\n",
              "      <td>7000.0</td>\n",
              "      <td>12714.285714</td>\n",
              "    </tr>\n",
              "    <tr>\n",
              "      <th>32072</th>\n",
              "      <td>22</td>\n",
              "      <td>10</td>\n",
              "      <td>2006</td>\n",
              "      <td>1</td>\n",
              "      <td>370000.0</td>\n",
              "      <td>2000.0</td>\n",
              "      <td>0</td>\n",
              "      <td>0</td>\n",
              "      <td>4000.0</td>\n",
              "      <td>23125.000000</td>\n",
              "    </tr>\n",
              "    <tr>\n",
              "      <th>32073</th>\n",
              "      <td>32</td>\n",
              "      <td>62</td>\n",
              "      <td>2006</td>\n",
              "      <td>6</td>\n",
              "      <td>300000.0</td>\n",
              "      <td>1500.0</td>\n",
              "      <td>0</td>\n",
              "      <td>0</td>\n",
              "      <td>4000.0</td>\n",
              "      <td>18750.000000</td>\n",
              "    </tr>\n",
              "  </tbody>\n",
              "</table>\n",
              "<p>32074 rows × 10 columns</p>\n",
              "</div>\n",
              "      <button class=\"colab-df-convert\" onclick=\"convertToInteractive('df-c3bcc765-92f4-4f0e-b101-aafcb2d497c5')\"\n",
              "              title=\"Convert this dataframe to an interactive table.\"\n",
              "              style=\"display:none;\">\n",
              "        \n",
              "  <svg xmlns=\"http://www.w3.org/2000/svg\" height=\"24px\"viewBox=\"0 0 24 24\"\n",
              "       width=\"24px\">\n",
              "    <path d=\"M0 0h24v24H0V0z\" fill=\"none\"/>\n",
              "    <path d=\"M18.56 5.44l.94 2.06.94-2.06 2.06-.94-2.06-.94-.94-2.06-.94 2.06-2.06.94zm-11 1L8.5 8.5l.94-2.06 2.06-.94-2.06-.94L8.5 2.5l-.94 2.06-2.06.94zm10 10l.94 2.06.94-2.06 2.06-.94-2.06-.94-.94-2.06-.94 2.06-2.06.94z\"/><path d=\"M17.41 7.96l-1.37-1.37c-.4-.4-.92-.59-1.43-.59-.52 0-1.04.2-1.43.59L10.3 9.45l-7.72 7.72c-.78.78-.78 2.05 0 2.83L4 21.41c.39.39.9.59 1.41.59.51 0 1.02-.2 1.41-.59l7.78-7.78 2.81-2.81c.8-.78.8-2.07 0-2.86zM5.41 20L4 18.59l7.72-7.72 1.47 1.35L5.41 20z\"/>\n",
              "  </svg>\n",
              "      </button>\n",
              "      \n",
              "  <style>\n",
              "    .colab-df-container {\n",
              "      display:flex;\n",
              "      flex-wrap:wrap;\n",
              "      gap: 12px;\n",
              "    }\n",
              "\n",
              "    .colab-df-convert {\n",
              "      background-color: #E8F0FE;\n",
              "      border: none;\n",
              "      border-radius: 50%;\n",
              "      cursor: pointer;\n",
              "      display: none;\n",
              "      fill: #1967D2;\n",
              "      height: 32px;\n",
              "      padding: 0 0 0 0;\n",
              "      width: 32px;\n",
              "    }\n",
              "\n",
              "    .colab-df-convert:hover {\n",
              "      background-color: #E2EBFA;\n",
              "      box-shadow: 0px 1px 2px rgba(60, 64, 67, 0.3), 0px 1px 3px 1px rgba(60, 64, 67, 0.15);\n",
              "      fill: #174EA6;\n",
              "    }\n",
              "\n",
              "    [theme=dark] .colab-df-convert {\n",
              "      background-color: #3B4455;\n",
              "      fill: #D2E3FC;\n",
              "    }\n",
              "\n",
              "    [theme=dark] .colab-df-convert:hover {\n",
              "      background-color: #434B5C;\n",
              "      box-shadow: 0px 1px 3px 1px rgba(0, 0, 0, 0.15);\n",
              "      filter: drop-shadow(0px 1px 2px rgba(0, 0, 0, 0.3));\n",
              "      fill: #FFFFFF;\n",
              "    }\n",
              "  </style>\n",
              "\n",
              "      <script>\n",
              "        const buttonEl =\n",
              "          document.querySelector('#df-c3bcc765-92f4-4f0e-b101-aafcb2d497c5 button.colab-df-convert');\n",
              "        buttonEl.style.display =\n",
              "          google.colab.kernel.accessAllowed ? 'block' : 'none';\n",
              "\n",
              "        async function convertToInteractive(key) {\n",
              "          const element = document.querySelector('#df-c3bcc765-92f4-4f0e-b101-aafcb2d497c5');\n",
              "          const dataTable =\n",
              "            await google.colab.kernel.invokeFunction('convertToInteractive',\n",
              "                                                     [key], {});\n",
              "          if (!dataTable) return;\n",
              "\n",
              "          const docLinkHtml = 'Like what you see? Visit the ' +\n",
              "            '<a target=\"_blank\" href=https://colab.research.google.com/notebooks/data_table.ipynb>data table notebook</a>'\n",
              "            + ' to learn more about interactive tables.';\n",
              "          element.innerHTML = '';\n",
              "          dataTable['output_type'] = 'display_data';\n",
              "          await google.colab.output.renderOutput(dataTable, element);\n",
              "          const docLink = document.createElement('div');\n",
              "          docLink.innerHTML = docLinkHtml;\n",
              "          element.appendChild(docLink);\n",
              "        }\n",
              "      </script>\n",
              "    </div>\n",
              "  </div>\n",
              "  "
            ]
          },
          "metadata": {},
          "execution_count": 60
        }
      ]
    },
    {
      "cell_type": "code",
      "metadata": {
        "id": "yU8gHQJjwzDa"
      },
      "source": [
        "cat_columns = ['Make', 'Model', 'Style', 'Fuel_type', 'Transmission'] \n",
        "num_columns = ['Year', 'Distance', 'Engine_capacity(cm3)', 'Price(euro)', 'km_year']"
      ],
      "execution_count": 61,
      "outputs": []
    },
    {
      "cell_type": "markdown",
      "metadata": {
        "id": "TS9go87GvrUo"
      },
      "source": [
        "## Логистическая регрессия"
      ]
    },
    {
      "cell_type": "markdown",
      "metadata": {
        "id": "YeYm2VrSvrUp"
      },
      "source": [
        "рассмотрим графики функции активации сигмоид и ее производной"
      ]
    },
    {
      "cell_type": "code",
      "metadata": {
        "id": "QXQgfoGsvrUp"
      },
      "source": [
        "def sigmoid(z):\n",
        "    return 1 / (1 + np.exp(-z)) \n",
        "\n",
        "def sigmoid_derivative(z):\n",
        "    return sigmoid(z)*(1-sigmoid(z)) "
      ],
      "execution_count": 62,
      "outputs": []
    },
    {
      "cell_type": "code",
      "metadata": {
        "id": "4LbMsnPNvrUq",
        "colab": {
          "base_uri": "https://localhost:8080/",
          "height": 338
        },
        "outputId": "43d60df9-9678-42e2-fbea-809504cbfe07"
      },
      "source": [
        "z = np.arange(-10,10,0.1)\n",
        "\n",
        "plt.figure(figsize=(16,5))\n",
        "plt.subplot(121); plt.plot(z,sigmoid(z)); plt.title('sigmoid')\n",
        "plt.subplot(122); plt.plot(z,sigmoid_derivative(z)); plt.title('sigmoid derivative')\n",
        "plt.show()"
      ],
      "execution_count": 63,
      "outputs": [
        {
          "output_type": "display_data",
          "data": {
            "text/plain": [
              "<Figure size 1152x360 with 2 Axes>"
            ],
            "image/png": "[encoded data removed]"
          },
          "metadata": {}
        }
      ]
    },
    {
      "cell_type": "markdown",
      "metadata": {
        "id": "lRuKrSaYvrUr"
      },
      "source": [
        "Как правило, после расчета функции активации мы должны округлить значения до 0 или до 1. То есть до значения метки одного из классов. Такое округление можно сделать по заданному порогу результатов функции активации. Например, мы можем сказать, что если значение сигмоида больше 0.5 то пусть будет класс 1, а если меньше, то наоборот. \n",
        "\n",
        "Однако, на практике иногда ставят высокий порог, 0.7 - 0.8. \n",
        "\n",
        "Запишем функцию определения класса.\n",
        "\n",
        "Отметим, что в описанном смысле можно говорить о том, что результат сигмоида - это вероятность того, что аргумент функции (z) принадлежит одному из классов. Также отметим, что такой аргумент принято называть логит.\n",
        "\n"
      ]
    },
    {
      "cell_type": "code",
      "metadata": {
        "id": "lX1AI6TJvrUr"
      },
      "source": [
        "def to_class(logit, threshold = 0.5):\n",
        "    return (logit>=threshold)*1"
      ],
      "execution_count": 64,
      "outputs": []
    },
    {
      "cell_type": "code",
      "metadata": {
        "scrolled": true,
        "id": "OWk2l1sPvrUs",
        "colab": {
          "base_uri": "https://localhost:8080/"
        },
        "outputId": "afef3db1-f3ba-4ad8-c975-c4f3e916732a"
      },
      "source": [
        "print( to_class(sigmoid(2.5), threshold = 0.7), ',',  to_class(sigmoid(-2.5), threshold = 0.7) )"
      ],
      "execution_count": 65,
      "outputs": [
        {
          "output_type": "stream",
          "name": "stdout",
          "text": [
            "1 , 0\n"
          ]
        }
      ]
    },
    {
      "cell_type": "markdown",
      "metadata": {
        "id": "2WvN-wJLvrUs"
      },
      "source": [
        "Отметим, что для расчета функции потерь не следует пользоваться округлением до классов"
      ]
    },
    {
      "cell_type": "markdown",
      "metadata": {
        "id": "VgnT4VbsvrUt"
      },
      "source": [
        "Теперь рассмотрим функцию потерь. Отметим, что значениях логорифма мы ввели небольшую константу с целью исключить ошибку вида логорифм нуля."
      ]
    },
    {
      "cell_type": "code",
      "metadata": {
        "id": "oJRjeHURvrUu"
      },
      "source": [
        "_EPS_ = 1e-6\n",
        "def loss(yhat, y):\n",
        "    return -(y*np.log(yhat + _EPS_)+(1 - y)*np.log(1 - yhat + _EPS_)).mean()"
      ],
      "execution_count": 66,
      "outputs": []
    },
    {
      "cell_type": "markdown",
      "metadata": {
        "id": "fvG6rD6svrUu"
      },
      "source": [
        "для начала рассмотрим значение функции активации для предельных случаев значений вероятности."
      ]
    },
    {
      "cell_type": "code",
      "metadata": {
        "scrolled": false,
        "id": "x_hY80D6vrUu",
        "colab": {
          "base_uri": "https://localhost:8080/"
        },
        "outputId": "1ce10070-e1ac-4368-bcd1-d9d7197ed07b"
      },
      "source": [
        "print('неопределенность (yhat=0.5, y=1):\\t %.3f'%loss(yhat=0.5, y=1))\n",
        "print('неопределенность (yhat=0.5, y=0):\\t %.3f'%loss(yhat=0.5, y=0))\n",
        "print('уверенный 0 класс (yhat=0, y=0):\\t %.3f'%loss(yhat=0.0, y=0))\n",
        "print('уверенный 1 класс(yhat=1, y=1):\\t %.3f'%loss(yhat=1, y=1))\n",
        "print('ошибочный 0 класс (yhat=0, y=1):\\t %.3f'%loss(yhat=0.0, y=1))\n",
        "print('ошибочный 1 класс(yhat=1, y=0):\\t %.3f'%loss(yhat=1, y=0))"
      ],
      "execution_count": 67,
      "outputs": [
        {
          "output_type": "stream",
          "name": "stdout",
          "text": [
            "неопределенность (yhat=0.5, y=1):\t 0.693\n",
            "неопределенность (yhat=0.5, y=0):\t 0.693\n",
            "уверенный 0 класс (yhat=0, y=0):\t -0.000\n",
            "уверенный 1 класс(yhat=1, y=1):\t -0.000\n",
            "ошибочный 0 класс (yhat=0, y=1):\t 13.816\n",
            "ошибочный 1 класс(yhat=1, y=0):\t 13.816\n"
          ]
        }
      ]
    },
    {
      "cell_type": "markdown",
      "metadata": {
        "id": "5P8xhKr_vrUv"
      },
      "source": [
        "Запишем все в один класс. Также добавим в функцию эластичную регуляризацию."
      ]
    },
    {
      "cell_type": "code",
      "metadata": {
        "id": "x37vftXBJh9K"
      },
      "source": [
        "class LinearRegression():\n",
        "    def __init__(self, \n",
        "                 learning_rate = 0.5, \n",
        "                 epochs = 100, \n",
        "                 weights = None, \n",
        "                 bias    = None, \n",
        "                 batch_size   = 1000, \n",
        "                 random_state = 42):\n",
        "        self.lr      = learning_rate\n",
        "        self.epochs  = epochs\n",
        "        self.weights = weights\n",
        "        self.bias    = bias\n",
        "        self.seed    = random_state\n",
        "        self.batch_size = batch_size\n",
        "        self.cost    = np.zeros(epochs)\n",
        "        \n",
        "        # если веса и смещения заданы\n",
        "        if not(self.weights is None) and (self.bias):\n",
        "            if self.weights.size == X.shape[1]:\n",
        "            #совмещаем в один массив, если мы этого не сделали\n",
        "                self.weights = np.append(self.bias,self.weights)\n",
        "    \n",
        "    #---------------------------------\n",
        "    def forward(self, X):\n",
        "        return self.weights.dot(X.T)\n",
        "    \n",
        "    #---------------------------------\n",
        "    def loss(self,yhat, y):\n",
        "        return np.square(yhat - y).sum()/y.size\n",
        "    \n",
        "    #---------------------------------\n",
        "    def grad_step(self,yhat, y, X):\n",
        "        return 2*np.dot(X.T, (yhat - y)) / y.size\n",
        "    \n",
        "    #---------------------------------\n",
        "    def update(self):    \n",
        "        return self.weights - self.lr*self.grad\n",
        "    \n",
        "    #---------------------------------\n",
        "    def init(self, weights_size):\n",
        "        np.random.seed(self.seed)\n",
        "        return np.random.randn(weights_size)/np.sqrt(weights_size)\n",
        "    \n",
        "    #---------------------------------\n",
        "    def add_bias(self, X):\n",
        "        return np.column_stack((np.ones(X.shape[0]), X))\n",
        "\n",
        "    #---------------------------------\n",
        "    def predict(self, X):\n",
        "        yhat = self.forward(self.add_bias(X))\n",
        "        return yhat\n",
        "    \n",
        "    #---------------------------------\n",
        "    def score(self, X, y):        \n",
        "        yhat = self.predict(X)\n",
        "        return 1-np.sum(np.square(y-yhat))/np.sum(np.square(y-np.mean(y)))\n",
        "\n",
        "     #---------------------------------\n",
        "    def load_batch(self,X,y):\n",
        "        idx_batch = np.random.randint(0,X.shape[0],self.batch_size)\n",
        "        x_batch   = np.take(X, idx_batch, axis=0)\n",
        "        x_batch   = self.add_bias(x_batch)\n",
        "        y_batch   = np.take(y, idx_batch)\n",
        "        return  x_batch, y_batch\n",
        "\n",
        "    #---------------------------------\n",
        "    def fit(self, X, y):\n",
        "\n",
        "        np.random.seed(self.seed)\n",
        "        \n",
        "        if self.weights is None:\n",
        "            self.weights = self.init(X.shape[1])\n",
        "        \n",
        "        if self.bias is None: \n",
        "            self.bias    = self.init(1)\n",
        "        \n",
        "        if self.weights.size == X.shape[1]:\n",
        "            #совмещаем в один массив, если мы этого не сделали\n",
        "            self.weights = np.append(self.bias,self.weights)\n",
        "        \n",
        "        self.grad    = np.zeros(self.weights.shape)\n",
        "        self.cost    = np.zeros(self.epochs)\n",
        "\n",
        "        if self.batch_size is None:            \n",
        "            x_batch   = self.add_bias(X)\n",
        "            y_batch   = y\n",
        "        \n",
        "        for i in range(self.epochs): \n",
        "\n",
        "            if self.batch_size: \n",
        "                x_batch, y_batch = self.load_batch(X,y)\n",
        "\n",
        "            yhat         = self.forward(x_batch)\n",
        "            self.grad    = self.grad_step(yhat,  y_batch, x_batch) \n",
        "            self.weights = self.update()  \n",
        "            self.cost[i] = self.loss(yhat,  y_batch)\n",
        "\n",
        "        self.bias = self.weights[0]\n",
        "     \n",
        "    #---------------------------------\n",
        "    def plot_cost(self, figsize = (12,6)):\n",
        "        plt.figure(figsize = figsize)\n",
        "        plt.plot(self.cost,'-*')\n",
        "        plt.show()\n",
        "    \n",
        "    #---------------------------------\n",
        "    def get_w_and_b(self):\n",
        "        return (self.weights[1:], self.bias)"
      ],
      "execution_count": 68,
      "outputs": []
    },
    {
      "cell_type": "code",
      "metadata": {
        "id": "FsddE5XgJdr5"
      },
      "source": [
        "class ElasticRegression(LinearRegression):\n",
        "    def __init__(self, \n",
        "                 learning_rate = 0.5,\n",
        "                 l1_penalty = 0.001,\n",
        "                 l2_penalty = 0.001,\n",
        "                 epochs = 100, \n",
        "                 weights = None, \n",
        "                 bias    = None, \n",
        "                 batch_size   = 1000, \n",
        "                 random_state = 42):\n",
        "        \n",
        "        super().__init__(learning_rate = learning_rate,\n",
        "                         epochs = epochs, \n",
        "                         weights = weights, \n",
        "                         bias    = bias, \n",
        "                         batch_size   = batch_size, \n",
        "                         random_state = random_state)\n",
        "        self.l1_penalty = l1_penalty\n",
        "        self.l2_penalty = l2_penalty\n",
        "    #---------------------------------\n",
        "    def loss(self,yhat, y):   \n",
        "        l1_term = self.l1_penalty*np.sum(self.weights[1:])/y.size\n",
        "        l2_term = (self.l2_penalty/2)*np.sum(np.square(self.weights[1:]))/y.size\n",
        "        return np.square(yhat - y).mean() + l1_term + l2_term\n",
        "                  \n",
        "    \n",
        "    #---------------------------------\n",
        "    def update(self):    \n",
        "        l2_term = self.l2_penalty*np.sum(self.weights[1:])\n",
        "        return self.weights - self.lr*(self.grad + np.sign(self.weights)* self.l1_penalty + l2_term)"
      ],
      "execution_count": 69,
      "outputs": []
    },
    {
      "cell_type": "code",
      "metadata": {
        "id": "i4DzHtmLvrUw"
      },
      "source": [
        "_EPS_ = 1e-6\n",
        "\n",
        "class LogisticRegression(ElasticRegression):\n",
        "    def __init__(self, \n",
        "                 learning_rate = 0.5,\n",
        "                 l1_penalty = 0.0,\n",
        "                 l2_penalty = 0.0,\n",
        "                 epochs = 100, \n",
        "                 weights = None, \n",
        "                 bias    = None, \n",
        "                 threshold = 0.5,\n",
        "                 batch_size   = 1000, \n",
        "                 random_state = 42):\n",
        "        \n",
        "        super().__init__(learning_rate = learning_rate,\n",
        "                         epochs = epochs, \n",
        "                         weights = weights, \n",
        "                         bias    = bias, \n",
        "                         batch_size   = batch_size, \n",
        "                         random_state = random_state,\n",
        "                         l1_penalty = l1_penalty,\n",
        "                         l2_penalty = l2_penalty)       \n",
        "        self.learning_rate = learning_rate/2\n",
        "        self.threshold = threshold\n",
        "    \n",
        "    #---------------------------------    \n",
        "    def loss(self,yhat, y):\n",
        "        \n",
        "        l1_term = self.l1_penalty*np.sum(self.weights[1:])/y.size\n",
        "        l2_term = (self.l2_penalty/2)*np.sum(np.square(self.weights[1:]))/y.size\n",
        "        \n",
        "        return -(y*np.log(yhat  + _EPS_)+(1 - y)*np.log(1 - yhat  + _EPS_)).mean()\\\n",
        "            + l1_term+ l2_term \n",
        "    \n",
        "    #---------------------------------\n",
        "    def sigmoid(self, z):\n",
        "        return 1 / (1 + np.exp(-z)) \n",
        "    \n",
        "    #---------------------------------\n",
        "    def forward(self, X):        \n",
        "        return self.sigmoid(self.weights.dot(X.T))\n",
        "    \n",
        "    #---------------------------------\n",
        "    def to_class(self,logit):\n",
        "        return (logit>=self.threshold)*1\n",
        "    \n",
        "    #---------------------------------\n",
        "    def predict(self, X):\n",
        "        yhat = self.forward(self.add_bias(X))\n",
        "        \n",
        "        if self.threshold:\n",
        "            return self.to_class(yhat)\n",
        "        else:\n",
        "            return yhat\n",
        "    #---------------------------------\n",
        "    def score(self, X, y):\n",
        "        yhat  = self.predict(X)\n",
        "        return sum((yhat==y)*1)/y.size\n",
        "    \n",
        "    #---------------------------------\n",
        "    def classification_report(self, X,y):\n",
        "        tp = 0 # true_positives\n",
        "        tn = 0 # true_negatives\n",
        "        fp = 0 # false_positives\n",
        "        fn = 0 # false_negatives\n",
        "        \n",
        "        yhat  = self.predict(X)\n",
        "        total = yhat.size\n",
        "        \n",
        "        for yhati,yi in zip(yhat,y):\n",
        "            if yi == 1 and yhati == 1:\n",
        "                tp += 1\n",
        "            elif yi == 0 and yhati == 0:\n",
        "                tn += 1\n",
        "            elif yi == 1 and yhati == 0:\n",
        "                fn += 1\n",
        "            elif yi == 0 and yhati == 1:\n",
        "                fp += 1\n",
        "\n",
        "        print('True Positives:%.0f'%(tp), end = '\\t')\n",
        "        print('False Positives:%.0f'%(fp))\n",
        "        print('False Negatives:%.0f'%(fn), end = '\\t')\n",
        "        print('True Negatives:%.0f'%(tn))\n",
        "        \n",
        "        print('Accuracy:%.4f'% ((tp + tn) / total))\n",
        "        print('Recall:%.4f'% (tp / (tp + fn)), end = '\\t')\n",
        "        print('Precision:%.4f'%(tp / (tp + fp)))\n",
        "        print('f1 measure:%.4f'%(tp / (tp + 0.5*(fp+fn))))"
      ],
      "execution_count": 70,
      "outputs": []
    },
    {
      "cell_type": "markdown",
      "metadata": {
        "id": "ionEXv4ivrUw"
      },
      "source": [
        "Запишим данные для классификации."
      ]
    },
    {
      "cell_type": "code",
      "metadata": {
        "scrolled": false,
        "id": "h8fKLEnyvrUx",
        "colab": {
          "base_uri": "https://localhost:8080/",
          "height": 206
        },
        "outputId": "ce97672f-aa77-4359-9531-497d469bfb9e"
      },
      "source": [
        "X = df[num_columns].values \n",
        "y = df[\"Transmission\"].values \n",
        "features_names = df[num_columns].columns\n",
        "\n",
        "X_train, X_test, y_train, y_test = train_test_split(X, y, test_size=0.3, random_state=42)\n",
        "\n",
        "\n",
        "scaler  = MinMaxScaler()\n",
        "X_train = scaler.fit_transform(X_train)\n",
        "X_test  = scaler.transform(X_test) \n",
        "pd.DataFrame(X_train).tail()"
      ],
      "execution_count": 71,
      "outputs": [
        {
          "output_type": "execute_result",
          "data": {
            "text/plain": [
              "          0         1         2         3         4\n",
              "22446  0.64  0.479896  0.353333  0.046092  0.251134\n",
              "22447  0.74  0.465893  0.479167  0.077144  0.331520\n",
              "22448  0.70  0.572360  0.333333  0.058106  0.356492\n",
              "22449  0.70  0.581916  0.375000  0.046593  0.362475\n",
              "22450  0.24  0.579916  0.000000  0.008016  0.147012"
            ],
            "text/html": [
              "\n",
              "  <div id=\"df-10446ba4-b214-46f5-84ac-1d9b4d641311\">\n",
              "    <div class=\"colab-df-container\">\n",
              "      <div>\n",
              "<style scoped>\n",
              "    .dataframe tbody tr th:only-of-type {\n",
              "        vertical-align: middle;\n",
              "    }\n",
              "\n",
              "    .dataframe tbody tr th {\n",
              "        vertical-align: top;\n",
              "    }\n",
              "\n",
              "    .dataframe thead th {\n",
              "        text-align: right;\n",
              "    }\n",
              "</style>\n",
              "<table border=\"1\" class=\"dataframe\">\n",
              "  <thead>\n",
              "    <tr style=\"text-align: right;\">\n",
              "      <th></th>\n",
              "      <th>0</th>\n",
              "      <th>1</th>\n",
              "      <th>2</th>\n",
              "      <th>3</th>\n",
              "      <th>4</th>\n",
              "    </tr>\n",
              "  </thead>\n",
              "  <tbody>\n",
              "    <tr>\n",
              "      <th>22446</th>\n",
              "      <td>0.64</td>\n",
              "      <td>0.479896</td>\n",
              "      <td>0.353333</td>\n",
              "      <td>0.046092</td>\n",
              "      <td>0.251134</td>\n",
              "    </tr>\n",
              "    <tr>\n",
              "      <th>22447</th>\n",
              "      <td>0.74</td>\n",
              "      <td>0.465893</td>\n",
              "      <td>0.479167</td>\n",
              "      <td>0.077144</td>\n",
              "      <td>0.331520</td>\n",
              "    </tr>\n",
              "    <tr>\n",
              "      <th>22448</th>\n",
              "      <td>0.70</td>\n",
              "      <td>0.572360</td>\n",
              "      <td>0.333333</td>\n",
              "      <td>0.058106</td>\n",
              "      <td>0.356492</td>\n",
              "    </tr>\n",
              "    <tr>\n",
              "      <th>22449</th>\n",
              "      <td>0.70</td>\n",
              "      <td>0.581916</td>\n",
              "      <td>0.375000</td>\n",
              "      <td>0.046593</td>\n",
              "      <td>0.362475</td>\n",
              "    </tr>\n",
              "    <tr>\n",
              "      <th>22450</th>\n",
              "      <td>0.24</td>\n",
              "      <td>0.579916</td>\n",
              "      <td>0.000000</td>\n",
              "      <td>0.008016</td>\n",
              "      <td>0.147012</td>\n",
              "    </tr>\n",
              "  </tbody>\n",
              "</table>\n",
              "</div>\n",
              "      <button class=\"colab-df-convert\" onclick=\"convertToInteractive('df-10446ba4-b214-46f5-84ac-1d9b4d641311')\"\n",
              "              title=\"Convert this dataframe to an interactive table.\"\n",
              "              style=\"display:none;\">\n",
              "        \n",
              "  <svg xmlns=\"http://www.w3.org/2000/svg\" height=\"24px\"viewBox=\"0 0 24 24\"\n",
              "       width=\"24px\">\n",
              "    <path d=\"M0 0h24v24H0V0z\" fill=\"none\"/>\n",
              "    <path d=\"M18.56 5.44l.94 2.06.94-2.06 2.06-.94-2.06-.94-.94-2.06-.94 2.06-2.06.94zm-11 1L8.5 8.5l.94-2.06 2.06-.94-2.06-.94L8.5 2.5l-.94 2.06-2.06.94zm10 10l.94 2.06.94-2.06 2.06-.94-2.06-.94-.94-2.06-.94 2.06-2.06.94z\"/><path d=\"M17.41 7.96l-1.37-1.37c-.4-.4-.92-.59-1.43-.59-.52 0-1.04.2-1.43.59L10.3 9.45l-7.72 7.72c-.78.78-.78 2.05 0 2.83L4 21.41c.39.39.9.59 1.41.59.51 0 1.02-.2 1.41-.59l7.78-7.78 2.81-2.81c.8-.78.8-2.07 0-2.86zM5.41 20L4 18.59l7.72-7.72 1.47 1.35L5.41 20z\"/>\n",
              "  </svg>\n",
              "      </button>\n",
              "      \n",
              "  <style>\n",
              "    .colab-df-container {\n",
              "      display:flex;\n",
              "      flex-wrap:wrap;\n",
              "      gap: 12px;\n",
              "    }\n",
              "\n",
              "    .colab-df-convert {\n",
              "      background-color: #E8F0FE;\n",
              "      border: none;\n",
              "      border-radius: 50%;\n",
              "      cursor: pointer;\n",
              "      display: none;\n",
              "      fill: #1967D2;\n",
              "      height: 32px;\n",
              "      padding: 0 0 0 0;\n",
              "      width: 32px;\n",
              "    }\n",
              "\n",
              "    .colab-df-convert:hover {\n",
              "      background-color: #E2EBFA;\n",
              "      box-shadow: 0px 1px 2px rgba(60, 64, 67, 0.3), 0px 1px 3px 1px rgba(60, 64, 67, 0.15);\n",
              "      fill: #174EA6;\n",
              "    }\n",
              "\n",
              "    [theme=dark] .colab-df-convert {\n",
              "      background-color: #3B4455;\n",
              "      fill: #D2E3FC;\n",
              "    }\n",
              "\n",
              "    [theme=dark] .colab-df-convert:hover {\n",
              "      background-color: #434B5C;\n",
              "      box-shadow: 0px 1px 3px 1px rgba(0, 0, 0, 0.15);\n",
              "      filter: drop-shadow(0px 1px 2px rgba(0, 0, 0, 0.3));\n",
              "      fill: #FFFFFF;\n",
              "    }\n",
              "  </style>\n",
              "\n",
              "      <script>\n",
              "        const buttonEl =\n",
              "          document.querySelector('#df-10446ba4-b214-46f5-84ac-1d9b4d641311 button.colab-df-convert');\n",
              "        buttonEl.style.display =\n",
              "          google.colab.kernel.accessAllowed ? 'block' : 'none';\n",
              "\n",
              "        async function convertToInteractive(key) {\n",
              "          const element = document.querySelector('#df-10446ba4-b214-46f5-84ac-1d9b4d641311');\n",
              "          const dataTable =\n",
              "            await google.colab.kernel.invokeFunction('convertToInteractive',\n",
              "                                                     [key], {});\n",
              "          if (!dataTable) return;\n",
              "\n",
              "          const docLinkHtml = 'Like what you see? Visit the ' +\n",
              "            '<a target=\"_blank\" href=https://colab.research.google.com/notebooks/data_table.ipynb>data table notebook</a>'\n",
              "            + ' to learn more about interactive tables.';\n",
              "          element.innerHTML = '';\n",
              "          dataTable['output_type'] = 'display_data';\n",
              "          await google.colab.output.renderOutput(dataTable, element);\n",
              "          const docLink = document.createElement('div');\n",
              "          docLink.innerHTML = docLinkHtml;\n",
              "          element.appendChild(docLink);\n",
              "        }\n",
              "      </script>\n",
              "    </div>\n",
              "  </div>\n",
              "  "
            ]
          },
          "metadata": {},
          "execution_count": 71
        }
      ]
    },
    {
      "cell_type": "markdown",
      "metadata": {
        "id": "vzZjrAfwvrUx"
      },
      "source": [
        "Проведем тестирование без регуляризации "
      ]
    },
    {
      "cell_type": "code",
      "metadata": {
        "scrolled": false,
        "id": "zJBr6AMBvrUx",
        "colab": {
          "base_uri": "https://localhost:8080/",
          "height": 481
        },
        "outputId": "6f06b954-effc-4f69-8aa1-a07f12c56ce2"
      },
      "source": [
        "regr = LogisticRegression(learning_rate=0.8,epochs=1500,batch_size=5000)\n",
        "\n",
        "regr.fit(X_train, y_train)\n",
        "\n",
        "regr.plot_cost()\n",
        "\n",
        "print( 'train Accuracy: %.4f; test Accuracy: %.4f' % (regr.score(X_train, y_train), regr.score(X_test, y_test)))\n",
        "\n",
        "regr.classification_report(X_test, y_test)"
      ],
      "execution_count": 72,
      "outputs": [
        {
          "output_type": "display_data",
          "data": {
            "text/plain": [
              "<Figure size 864x432 with 1 Axes>"
            ],
            "image/png": "[encoded data removed]"
          },
          "metadata": {}
        },
        {
          "output_type": "stream",
          "name": "stdout",
          "text": [
            "train Accuracy: 0.8040; test Accuracy: 0.8112\n",
            "True Positives:3283\tFalse Positives:730\n",
            "False Negatives:1087\tTrue Negatives:4523\n",
            "Accuracy:0.8112\n",
            "Recall:0.7513\tPrecision:0.8181\n",
            "f1 measure:0.7833\n"
          ]
        }
      ]
    },
    {
      "cell_type": "markdown",
      "metadata": {
        "id": "nLbZeSNTvrUy"
      },
      "source": [
        "Посмотрим веса"
      ]
    },
    {
      "cell_type": "code",
      "metadata": {
        "scrolled": true,
        "id": "5FMki6i3vrUy",
        "colab": {
          "base_uri": "https://localhost:8080/",
          "height": 352
        },
        "outputId": "49e6d738-4dd6-405f-f9ca-2185d98ec88d"
      },
      "source": [
        "w, b = regr.get_w_and_b()\n",
        "plt.bar(x = range(w.size),height=w)\n",
        "plt.xticks(range(w.size),features_names, rotation = 45 );"
      ],
      "execution_count": 73,
      "outputs": [
        {
          "output_type": "display_data",
          "data": {
            "text/plain": [
              "<Figure size 432x288 with 1 Axes>"
            ],
            "image/png": "[encoded data removed]"
          },
          "metadata": {}
        }
      ]
    },
    {
      "cell_type": "markdown",
      "metadata": {
        "id": "HePsgYpavrUz"
      },
      "source": [
        "Проведем тест с регуляризацией L2"
      ]
    },
    {
      "cell_type": "code",
      "metadata": {
        "id": "nA80S-p6vrUz",
        "colab": {
          "base_uri": "https://localhost:8080/",
          "height": 481
        },
        "outputId": "a5ffac69-97ee-4f27-a5ab-b18f638c6ab6"
      },
      "source": [
        "regr = LogisticRegression(learning_rate=0.8,epochs=1500,batch_size=5000, l2_penalty = 0.0001)\n",
        "\n",
        "regr.fit(X_train, y_train)\n",
        "\n",
        "regr.plot_cost()\n",
        "\n",
        "print( 'train Accuracy: %.4f; test Accuracy: %.4f' % (regr.score(X_train, y_train), regr.score(X_test, y_test)))\n",
        "\n",
        "regr.classification_report(X_test, y_test)"
      ],
      "execution_count": 74,
      "outputs": [
        {
          "output_type": "display_data",
          "data": {
            "text/plain": [
              "<Figure size 864x432 with 1 Axes>"
            ],
            "image/png": "[encoded data removed]"
          },
          "metadata": {}
        },
        {
          "output_type": "stream",
          "name": "stdout",
          "text": [
            "train Accuracy: 0.8034; test Accuracy: 0.8112\n",
            "True Positives:3270\tFalse Positives:717\n",
            "False Negatives:1100\tTrue Negatives:4536\n",
            "Accuracy:0.8112\n",
            "Recall:0.7483\tPrecision:0.8202\n",
            "f1 measure:0.7826\n"
          ]
        }
      ]
    },
    {
      "cell_type": "code",
      "metadata": {
        "id": "g_PXtsK6vrUz",
        "colab": {
          "base_uri": "https://localhost:8080/",
          "height": 352
        },
        "outputId": "25eda273-49fc-4b04-d3f2-aca9c8b46e74"
      },
      "source": [
        "w, b = regr.get_w_and_b()\n",
        "plt.bar(x = range(w.size),height=w)\n",
        "plt.xticks(range(w.size),features_names, rotation = 45 );"
      ],
      "execution_count": 75,
      "outputs": [
        {
          "output_type": "display_data",
          "data": {
            "text/plain": [
              "<Figure size 432x288 with 1 Axes>"
            ],
            "image/png": "[encoded data removed]"
          },
          "metadata": {}
        }
      ]
    },
    {
      "cell_type": "markdown",
      "metadata": {
        "id": "Vb3UbheOvrU0"
      },
      "source": [
        "Проведем тест с L1 регуляризацией"
      ]
    },
    {
      "cell_type": "code",
      "metadata": {
        "scrolled": true,
        "id": "phuZOE01vrU0",
        "colab": {
          "base_uri": "https://localhost:8080/",
          "height": 481
        },
        "outputId": "157e35e0-91ba-409e-f7a3-cc0d083c6ffb"
      },
      "source": [
        "regr = LogisticRegression(learning_rate=0.8,epochs=1500,batch_size=5000, l1_penalty = 0.005)\n",
        "\n",
        "regr.fit(X_train, y_train)\n",
        "\n",
        "regr.plot_cost()\n",
        "\n",
        "print( 'train Accuracy: %.4f; test Accuracy: %.4f' % (regr.score(X_train, y_train), regr.score(X_test, y_test)))\n",
        "\n",
        "regr.classification_report(X_test, y_test)"
      ],
      "execution_count": 76,
      "outputs": [
        {
          "output_type": "display_data",
          "data": {
            "text/plain": [
              "<Figure size 864x432 with 1 Axes>"
            ],
            "image/png": "[encoded data removed]"
          },
          "metadata": {}
        },
        {
          "output_type": "stream",
          "name": "stdout",
          "text": [
            "train Accuracy: 0.8053; test Accuracy: 0.8154\n",
            "True Positives:3233\tFalse Positives:639\n",
            "False Negatives:1137\tTrue Negatives:4614\n",
            "Accuracy:0.8154\n",
            "Recall:0.7398\tPrecision:0.8350\n",
            "f1 measure:0.7845\n"
          ]
        }
      ]
    },
    {
      "cell_type": "code",
      "metadata": {
        "scrolled": false,
        "id": "HH5P_owJvrU1",
        "colab": {
          "base_uri": "https://localhost:8080/",
          "height": 352
        },
        "outputId": "365798e0-fd36-4e4b-df87-06498638f6ef"
      },
      "source": [
        "w, b = regr.get_w_and_b()\n",
        "plt.bar(x = range(w.size),height=w)\n",
        "plt.xticks(range(w.size),features_names, rotation = 45 );"
      ],
      "execution_count": 77,
      "outputs": [
        {
          "output_type": "display_data",
          "data": {
            "text/plain": [
              "<Figure size 432x288 with 1 Axes>"
            ],
            "image/png": "[encoded data removed]"
          },
          "metadata": {}
        }
      ]
    },
    {
      "cell_type": "markdown",
      "metadata": {
        "id": "XwHGI9-_vrU1"
      },
      "source": [
        "Эластичная регрессия"
      ]
    },
    {
      "cell_type": "code",
      "metadata": {
        "scrolled": true,
        "id": "9TzAG35EvrU2",
        "colab": {
          "base_uri": "https://localhost:8080/",
          "height": 481
        },
        "outputId": "ae12a389-a7a6-4697-ebf5-c41b31a8a7bd"
      },
      "source": [
        "regr = LogisticRegression(learning_rate=0.8,epochs=1500,batch_size=5000, l1_penalty = 0.008, l2_penalty = 0.00005)\n",
        "\n",
        "regr.fit(X_train, y_train)\n",
        "\n",
        "regr.plot_cost()\n",
        "\n",
        "print( 'train Accuracy: %.4f; test Accuracy: %.4f' % (regr.score(X_train, y_train), regr.score(X_test, y_test)))\n",
        "\n",
        "regr.classification_report(X_test, y_test)"
      ],
      "execution_count": 78,
      "outputs": [
        {
          "output_type": "display_data",
          "data": {
            "text/plain": [
              "<Figure size 864x432 with 1 Axes>"
            ],
            "image/png": "[encoded data removed]"
          },
          "metadata": {}
        },
        {
          "output_type": "stream",
          "name": "stdout",
          "text": [
            "train Accuracy: 0.8048; test Accuracy: 0.8160\n",
            "True Positives:3196\tFalse Positives:597\n",
            "False Negatives:1174\tTrue Negatives:4656\n",
            "Accuracy:0.8160\n",
            "Recall:0.7314\tPrecision:0.8426\n",
            "f1 measure:0.7830\n"
          ]
        }
      ]
    },
    {
      "cell_type": "code",
      "metadata": {
        "id": "8CJEIEkQvrU2",
        "colab": {
          "base_uri": "https://localhost:8080/",
          "height": 352
        },
        "outputId": "6417f63a-36b0-4813-b7b4-af6133799b34"
      },
      "source": [
        "w, b = regr.get_w_and_b()\n",
        "plt.bar(x = range(w.size),height=w)\n",
        "plt.xticks(range(w.size),features_names, rotation = 45 );"
      ],
      "execution_count": 79,
      "outputs": [
        {
          "output_type": "display_data",
          "data": {
            "text/plain": [
              "<Figure size 432x288 with 1 Axes>"
            ],
            "image/png": "[encoded data removed]"
          },
          "metadata": {}
        }
      ]
    },
    {
      "cell_type": "markdown",
      "metadata": {
        "id": "XPt9At6QvrU3"
      },
      "source": [
        "Посмотрим, можно ли проводить классификацию без параметров связанных с расстоянием"
      ]
    },
    {
      "cell_type": "code",
      "metadata": {
        "scrolled": true,
        "id": "S_m8XLRQvrU3",
        "colab": {
          "base_uri": "https://localhost:8080/"
        },
        "outputId": "04400f24-8c9d-44cc-ada5-d20a2e5315a6"
      },
      "source": [
        "w, b = regr.get_w_and_b()\n",
        "\n",
        "w[1] = 0\n",
        "w[-1] = 0\n",
        "\n",
        "regr = LogisticRegression(learning_rate=0.8,\n",
        "                          epochs=1500,\n",
        "                          batch_size=5000, \n",
        "                          l1_penalty = 0.005,\n",
        "                          weights = w,\n",
        "                          bias = b)\n",
        "\n",
        "\n",
        "print( 'train ACC: %.4f; test ACC: %.4f' % (regr.score(X_train, y_train), regr.score(X_test, y_test)))\n",
        "\n",
        "regr.classification_report(X_test, y_test)"
      ],
      "execution_count": 80,
      "outputs": [
        {
          "output_type": "stream",
          "name": "stdout",
          "text": [
            "train ACC: 0.7972; test ACC: 0.8044\n",
            "True Positives:3553\tFalse Positives:1065\n",
            "False Negatives:817\tTrue Negatives:4188\n",
            "Accuracy:0.8044\n",
            "Recall:0.8130\tPrecision:0.7694\n",
            "f1 measure:0.7906\n"
          ]
        }
      ]
    },
    {
      "cell_type": "code",
      "source": [],
      "metadata": {
        "id": "12lOhBr2YkdB"
      },
      "execution_count": 80,
      "outputs": []
    },
    {
      "cell_type": "markdown",
      "source": [
        "#Стандартизация"
      ],
      "metadata": {
        "id": "y45qQS0hYlMU"
      }
    },
    {
      "cell_type": "markdown",
      "metadata": {
        "id": "CKCTfMPtYlMV"
      },
      "source": [
        "## Загрузка данных на Google Drive"
      ]
    },
    {
      "cell_type": "code",
      "metadata": {
        "id": "mJAV0JO8YlMV",
        "outputId": "218d13b3-4199-4223-fb5f-4dba62eb3aef",
        "colab": {
          "base_uri": "https://localhost:8080/",
          "height": 74
        }
      },
      "source": [
        "uploaded = files.upload()"
      ],
      "execution_count": 99,
      "outputs": [
        {
          "output_type": "display_data",
          "data": {
            "text/plain": [
              "<IPython.core.display.HTML object>"
            ],
            "text/html": [
              "\n",
              "     <input type=\"file\" id=\"files-6dc53d89-9074-4791-b639-7031bb7e058d\" name=\"files[]\" multiple disabled\n",
              "        style=\"border:none\" />\n",
              "     <output id=\"result-6dc53d89-9074-4791-b639-7031bb7e058d\">\n",
              "      Upload widget is only available when the cell has been executed in the\n",
              "      current browser session. Please rerun this cell to enable.\n",
              "      </output>\n",
              "      <script>// Copyright 2017 Google LLC\n",
              "//\n",
              "// Licensed under the Apache License, Version 2.0 (the \"License\");\n",
              "// you may not use this file except in compliance with the License.\n",
              "// You may obtain a copy of the License at\n",
              "//\n",
              "//      http://www.apache.org/licenses/LICENSE-2.0\n",
              "//\n",
              "// Unless required by applicable law or agreed to in writing, software\n",
              "// distributed under the License is distributed on an \"AS IS\" BASIS,\n",
              "// WITHOUT WARRANTIES OR CONDITIONS OF ANY KIND, either express or implied.\n",
              "// See the License for the specific language governing permissions and\n",
              "// limitations under the License.\n",
              "\n",
              "/**\n",
              " * @fileoverview Helpers for google.colab Python module.\n",
              " */\n",
              "(function(scope) {\n",
              "function span(text, styleAttributes = {}) {\n",
              "  const element = document.createElement('span');\n",
              "  element.textContent = text;\n",
              "  for (const key of Object.keys(styleAttributes)) {\n",
              "    element.style[key] = styleAttributes[key];\n",
              "  }\n",
              "  return element;\n",
              "}\n",
              "\n",
              "// Max number of bytes which will be uploaded at a time.\n",
              "const MAX_PAYLOAD_SIZE = 100 * 1024;\n",
              "\n",
              "function _uploadFiles(inputId, outputId) {\n",
              "  const steps = uploadFilesStep(inputId, outputId);\n",
              "  const outputElement = document.getElementById(outputId);\n",
              "  // Cache steps on the outputElement to make it available for the next call\n",
              "  // to uploadFilesContinue from Python.\n",
              "  outputElement.steps = steps;\n",
              "\n",
              "  return _uploadFilesContinue(outputId);\n",
              "}\n",
              "\n",
              "// This is roughly an async generator (not supported in the browser yet),\n",
              "// where there are multiple asynchronous steps and the Python side is going\n",
              "// to poll for completion of each step.\n",
              "// This uses a Promise to block the python side on completion of each step,\n",
              "// then passes the result of the previous step as the input to the next step.\n",
              "function _uploadFilesContinue(outputId) {\n",
              "  const outputElement = document.getElementById(outputId);\n",
              "  const steps = outputElement.steps;\n",
              "\n",
              "  const next = steps.next(outputElement.lastPromiseValue);\n",
              "  return Promise.resolve(next.value.promise).then((value) => {\n",
              "    // Cache the last promise value to make it available to the next\n",
              "    // step of the generator.\n",
              "    outputElement.lastPromiseValue = value;\n",
              "    return next.value.response;\n",
              "  });\n",
              "}\n",
              "\n",
              "/**\n",
              " * Generator function which is called between each async step of the upload\n",
              " * process.\n",
              " * @param {string} inputId Element ID of the input file picker element.\n",
              " * @param {string} outputId Element ID of the output display.\n",
              " * @return {!Iterable<!Object>} Iterable of next steps.\n",
              " */\n",
              "function* uploadFilesStep(inputId, outputId) {\n",
              "  const inputElement = document.getElementById(inputId);\n",
              "  inputElement.disabled = false;\n",
              "\n",
              "  const outputElement = document.getElementById(outputId);\n",
              "  outputElement.innerHTML = '';\n",
              "\n",
              "  const pickedPromise = new Promise((resolve) => {\n",
              "    inputElement.addEventListener('change', (e) => {\n",
              "      resolve(e.target.files);\n",
              "    });\n",
              "  });\n",
              "\n",
              "  const cancel = document.createElement('button');\n",
              "  inputElement.parentElement.appendChild(cancel);\n",
              "  cancel.textContent = 'Cancel upload';\n",
              "  const cancelPromise = new Promise((resolve) => {\n",
              "    cancel.onclick = () => {\n",
              "      resolve(null);\n",
              "    };\n",
              "  });\n",
              "\n",
              "  // Wait for the user to pick the files.\n",
              "  const files = yield {\n",
              "    promise: Promise.race([pickedPromise, cancelPromise]),\n",
              "    response: {\n",
              "      action: 'starting',\n",
              "    }\n",
              "  };\n",
              "\n",
              "  cancel.remove();\n",
              "\n",
              "  // Disable the input element since further picks are not allowed.\n",
              "  inputElement.disabled = true;\n",
              "\n",
              "  if (!files) {\n",
              "    return {\n",
              "      response: {\n",
              "        action: 'complete',\n",
              "      }\n",
              "    };\n",
              "  }\n",
              "\n",
              "  for (const file of files) {\n",
              "    const li = document.createElement('li');\n",
              "    li.append(span(file.name, {fontWeight: 'bold'}));\n",
              "    li.append(span(\n",
              "        `(${file.type || 'n/a'}) - ${file.size} bytes, ` +\n",
              "        `last modified: ${\n",
              "            file.lastModifiedDate ? file.lastModifiedDate.toLocaleDateString() :\n",
              "                                    'n/a'} - `));\n",
              "    const percent = span('0% done');\n",
              "    li.appendChild(percent);\n",
              "\n",
              "    outputElement.appendChild(li);\n",
              "\n",
              "    const fileDataPromise = new Promise((resolve) => {\n",
              "      const reader = new FileReader();\n",
              "      reader.onload = (e) => {\n",
              "        resolve(e.target.result);\n",
              "      };\n",
              "      reader.readAsArrayBuffer(file);\n",
              "    });\n",
              "    // Wait for the data to be ready.\n",
              "    let fileData = yield {\n",
              "      promise: fileDataPromise,\n",
              "      response: {\n",
              "        action: 'continue',\n",
              "      }\n",
              "    };\n",
              "\n",
              "    // Use a chunked sending to avoid message size limits. See b/62115660.\n",
              "    let position = 0;\n",
              "    do {\n",
              "      const length = Math.min(fileData.byteLength - position, MAX_PAYLOAD_SIZE);\n",
              "      const chunk = new Uint8Array(fileData, position, length);\n",
              "      position += length;\n",
              "\n",
              "      const base64 = btoa(String.fromCharCode.apply(null, chunk));\n",
              "      yield {\n",
              "        response: {\n",
              "          action: 'append',\n",
              "          file: file.name,\n",
              "          data: base64,\n",
              "        },\n",
              "      };\n",
              "\n",
              "      let percentDone = fileData.byteLength === 0 ?\n",
              "          100 :\n",
              "          Math.round((position / fileData.byteLength) * 100);\n",
              "      percent.textContent = `${percentDone}% done`;\n",
              "\n",
              "    } while (position < fileData.byteLength);\n",
              "  }\n",
              "\n",
              "  // All done.\n",
              "  yield {\n",
              "    response: {\n",
              "      action: 'complete',\n",
              "    }\n",
              "  };\n",
              "}\n",
              "\n",
              "scope.google = scope.google || {};\n",
              "scope.google.colab = scope.google.colab || {};\n",
              "scope.google.colab._files = {\n",
              "  _uploadFiles,\n",
              "  _uploadFilesContinue,\n",
              "};\n",
              "})(self);\n",
              "</script> "
            ]
          },
          "metadata": {}
        },
        {
          "output_type": "stream",
          "name": "stdout",
          "text": [
            "Saving cars_moldova_stand.csv to cars_moldova_stand.csv\n"
          ]
        }
      ]
    },
    {
      "cell_type": "markdown",
      "metadata": {
        "id": "7Z7tjGVgYlMV"
      },
      "source": [
        "## Считываем файл в DataFrame\n",
        "\n"
      ]
    },
    {
      "cell_type": "markdown",
      "metadata": {
        "id": "lvTnvyjXYlMV"
      },
      "source": [
        "метод .read_csv(path,delimiter) "
      ]
    },
    {
      "cell_type": "code",
      "metadata": {
        "id": "vsrAtKMhYlMW",
        "outputId": "574c9f69-a395-46cd-8969-82502d8f94c6",
        "colab": {
          "base_uri": "https://localhost:8080/",
          "height": 424
        }
      },
      "source": [
        "df = pd.read_csv('/content/cars_moldova_stand.csv', delimiter = ',')\n",
        "df"
      ],
      "execution_count": 109,
      "outputs": [
        {
          "output_type": "execute_result",
          "data": {
            "text/plain": [
              "             Make         Model  Year      Style  Distance  \\\n",
              "0          Toyota         Prius  2011  Hatchback  195000.0   \n",
              "1         Renault  Grand Scenic  2014  Universal  135000.0   \n",
              "2         Renault        Laguna  2012  Universal  110000.0   \n",
              "3            Opel         Astra  2006  Universal  200000.0   \n",
              "4        Mercedes          Vito  2000   Microvan  300000.0   \n",
              "...           ...           ...   ...        ...       ...   \n",
              "32215  Volkswagen        Passat  2016      Sedan   88000.0   \n",
              "32216  Land Rover    Freelander  2002  Crossover  225000.0   \n",
              "32217       Dacia     Logan Mcv  2015  Universal   89000.0   \n",
              "32218       Mazda             6  2006      Combi  370000.0   \n",
              "32219     Renault  Grand Scenic  2006    Minivan  300000.0   \n",
              "\n",
              "       Engine_capacity(cm3)     Fuel_type Transmission  Price(euro)  Age  \\\n",
              "0                    1800.0        Hybrid    Automatic       7750.0   11   \n",
              "1                    1500.0        Diesel       Manual       8550.0    8   \n",
              "2                    1500.0        Diesel       Manual       6550.0   10   \n",
              "3                    1600.0  Metan/Propan       Manual       4100.0   16   \n",
              "4                    2200.0        Diesel       Manual       3490.0   22   \n",
              "...                     ...           ...          ...          ...  ...   \n",
              "32215                1800.0        Petrol    Automatic      11500.0    6   \n",
              "32216                1800.0  Metan/Propan       Manual       4400.0   20   \n",
              "32217                1500.0        Diesel       Manual       7000.0    7   \n",
              "32218                2000.0        Diesel       Manual       4000.0   16   \n",
              "32219                1500.0        Diesel       Manual       4000.0   16   \n",
              "\n",
              "            km_year  \n",
              "0      17727.272727  \n",
              "1      16875.000000  \n",
              "2      11000.000000  \n",
              "3      12500.000000  \n",
              "4      13636.363636  \n",
              "...             ...  \n",
              "32215  14666.666667  \n",
              "32216  11250.000000  \n",
              "32217  12714.285714  \n",
              "32218  23125.000000  \n",
              "32219  18750.000000  \n",
              "\n",
              "[32220 rows x 11 columns]"
            ],
            "text/html": [
              "\n",
              "  <div id=\"df-f1e4ce84-0108-41d0-8098-f02ffd9835ec\">\n",
              "    <div class=\"colab-df-container\">\n",
              "      <div>\n",
              "<style scoped>\n",
              "    .dataframe tbody tr th:only-of-type {\n",
              "        vertical-align: middle;\n",
              "    }\n",
              "\n",
              "    .dataframe tbody tr th {\n",
              "        vertical-align: top;\n",
              "    }\n",
              "\n",
              "    .dataframe thead th {\n",
              "        text-align: right;\n",
              "    }\n",
              "</style>\n",
              "<table border=\"1\" class=\"dataframe\">\n",
              "  <thead>\n",
              "    <tr style=\"text-align: right;\">\n",
              "      <th></th>\n",
              "      <th>Make</th>\n",
              "      <th>Model</th>\n",
              "      <th>Year</th>\n",
              "      <th>Style</th>\n",
              "      <th>Distance</th>\n",
              "      <th>Engine_capacity(cm3)</th>\n",
              "      <th>Fuel_type</th>\n",
              "      <th>Transmission</th>\n",
              "      <th>Price(euro)</th>\n",
              "      <th>Age</th>\n",
              "      <th>km_year</th>\n",
              "    </tr>\n",
              "  </thead>\n",
              "  <tbody>\n",
              "    <tr>\n",
              "      <th>0</th>\n",
              "      <td>Toyota</td>\n",
              "      <td>Prius</td>\n",
              "      <td>2011</td>\n",
              "      <td>Hatchback</td>\n",
              "      <td>195000.0</td>\n",
              "      <td>1800.0</td>\n",
              "      <td>Hybrid</td>\n",
              "      <td>Automatic</td>\n",
              "      <td>7750.0</td>\n",
              "      <td>11</td>\n",
              "      <td>17727.272727</td>\n",
              "    </tr>\n",
              "    <tr>\n",
              "      <th>1</th>\n",
              "      <td>Renault</td>\n",
              "      <td>Grand Scenic</td>\n",
              "      <td>2014</td>\n",
              "      <td>Universal</td>\n",
              "      <td>135000.0</td>\n",
              "      <td>1500.0</td>\n",
              "      <td>Diesel</td>\n",
              "      <td>Manual</td>\n",
              "      <td>8550.0</td>\n",
              "      <td>8</td>\n",
              "      <td>16875.000000</td>\n",
              "    </tr>\n",
              "    <tr>\n",
              "      <th>2</th>\n",
              "      <td>Renault</td>\n",
              "      <td>Laguna</td>\n",
              "      <td>2012</td>\n",
              "      <td>Universal</td>\n",
              "      <td>110000.0</td>\n",
              "      <td>1500.0</td>\n",
              "      <td>Diesel</td>\n",
              "      <td>Manual</td>\n",
              "      <td>6550.0</td>\n",
              "      <td>10</td>\n",
              "      <td>11000.000000</td>\n",
              "    </tr>\n",
              "    <tr>\n",
              "      <th>3</th>\n",
              "      <td>Opel</td>\n",
              "      <td>Astra</td>\n",
              "      <td>2006</td>\n",
              "      <td>Universal</td>\n",
              "      <td>200000.0</td>\n",
              "      <td>1600.0</td>\n",
              "      <td>Metan/Propan</td>\n",
              "      <td>Manual</td>\n",
              "      <td>4100.0</td>\n",
              "      <td>16</td>\n",
              "      <td>12500.000000</td>\n",
              "    </tr>\n",
              "    <tr>\n",
              "      <th>4</th>\n",
              "      <td>Mercedes</td>\n",
              "      <td>Vito</td>\n",
              "      <td>2000</td>\n",
              "      <td>Microvan</td>\n",
              "      <td>300000.0</td>\n",
              "      <td>2200.0</td>\n",
              "      <td>Diesel</td>\n",
              "      <td>Manual</td>\n",
              "      <td>3490.0</td>\n",
              "      <td>22</td>\n",
              "      <td>13636.363636</td>\n",
              "    </tr>\n",
              "    <tr>\n",
              "      <th>...</th>\n",
              "      <td>...</td>\n",
              "      <td>...</td>\n",
              "      <td>...</td>\n",
              "      <td>...</td>\n",
              "      <td>...</td>\n",
              "      <td>...</td>\n",
              "      <td>...</td>\n",
              "      <td>...</td>\n",
              "      <td>...</td>\n",
              "      <td>...</td>\n",
              "      <td>...</td>\n",
              "    </tr>\n",
              "    <tr>\n",
              "      <th>32215</th>\n",
              "      <td>Volkswagen</td>\n",
              "      <td>Passat</td>\n",
              "      <td>2016</td>\n",
              "      <td>Sedan</td>\n",
              "      <td>88000.0</td>\n",
              "      <td>1800.0</td>\n",
              "      <td>Petrol</td>\n",
              "      <td>Automatic</td>\n",
              "      <td>11500.0</td>\n",
              "      <td>6</td>\n",
              "      <td>14666.666667</td>\n",
              "    </tr>\n",
              "    <tr>\n",
              "      <th>32216</th>\n",
              "      <td>Land Rover</td>\n",
              "      <td>Freelander</td>\n",
              "      <td>2002</td>\n",
              "      <td>Crossover</td>\n",
              "      <td>225000.0</td>\n",
              "      <td>1800.0</td>\n",
              "      <td>Metan/Propan</td>\n",
              "      <td>Manual</td>\n",
              "      <td>4400.0</td>\n",
              "      <td>20</td>\n",
              "      <td>11250.000000</td>\n",
              "    </tr>\n",
              "    <tr>\n",
              "      <th>32217</th>\n",
              "      <td>Dacia</td>\n",
              "      <td>Logan Mcv</td>\n",
              "      <td>2015</td>\n",
              "      <td>Universal</td>\n",
              "      <td>89000.0</td>\n",
              "      <td>1500.0</td>\n",
              "      <td>Diesel</td>\n",
              "      <td>Manual</td>\n",
              "      <td>7000.0</td>\n",
              "      <td>7</td>\n",
              "      <td>12714.285714</td>\n",
              "    </tr>\n",
              "    <tr>\n",
              "      <th>32218</th>\n",
              "      <td>Mazda</td>\n",
              "      <td>6</td>\n",
              "      <td>2006</td>\n",
              "      <td>Combi</td>\n",
              "      <td>370000.0</td>\n",
              "      <td>2000.0</td>\n",
              "      <td>Diesel</td>\n",
              "      <td>Manual</td>\n",
              "      <td>4000.0</td>\n",
              "      <td>16</td>\n",
              "      <td>23125.000000</td>\n",
              "    </tr>\n",
              "    <tr>\n",
              "      <th>32219</th>\n",
              "      <td>Renault</td>\n",
              "      <td>Grand Scenic</td>\n",
              "      <td>2006</td>\n",
              "      <td>Minivan</td>\n",
              "      <td>300000.0</td>\n",
              "      <td>1500.0</td>\n",
              "      <td>Diesel</td>\n",
              "      <td>Manual</td>\n",
              "      <td>4000.0</td>\n",
              "      <td>16</td>\n",
              "      <td>18750.000000</td>\n",
              "    </tr>\n",
              "  </tbody>\n",
              "</table>\n",
              "<p>32220 rows × 11 columns</p>\n",
              "</div>\n",
              "      <button class=\"colab-df-convert\" onclick=\"convertToInteractive('df-f1e4ce84-0108-41d0-8098-f02ffd9835ec')\"\n",
              "              title=\"Convert this dataframe to an interactive table.\"\n",
              "              style=\"display:none;\">\n",
              "        \n",
              "  <svg xmlns=\"http://www.w3.org/2000/svg\" height=\"24px\"viewBox=\"0 0 24 24\"\n",
              "       width=\"24px\">\n",
              "    <path d=\"M0 0h24v24H0V0z\" fill=\"none\"/>\n",
              "    <path d=\"M18.56 5.44l.94 2.06.94-2.06 2.06-.94-2.06-.94-.94-2.06-.94 2.06-2.06.94zm-11 1L8.5 8.5l.94-2.06 2.06-.94-2.06-.94L8.5 2.5l-.94 2.06-2.06.94zm10 10l.94 2.06.94-2.06 2.06-.94-2.06-.94-.94-2.06-.94 2.06-2.06.94z\"/><path d=\"M17.41 7.96l-1.37-1.37c-.4-.4-.92-.59-1.43-.59-.52 0-1.04.2-1.43.59L10.3 9.45l-7.72 7.72c-.78.78-.78 2.05 0 2.83L4 21.41c.39.39.9.59 1.41.59.51 0 1.02-.2 1.41-.59l7.78-7.78 2.81-2.81c.8-.78.8-2.07 0-2.86zM5.41 20L4 18.59l7.72-7.72 1.47 1.35L5.41 20z\"/>\n",
              "  </svg>\n",
              "      </button>\n",
              "      \n",
              "  <style>\n",
              "    .colab-df-container {\n",
              "      display:flex;\n",
              "      flex-wrap:wrap;\n",
              "      gap: 12px;\n",
              "    }\n",
              "\n",
              "    .colab-df-convert {\n",
              "      background-color: #E8F0FE;\n",
              "      border: none;\n",
              "      border-radius: 50%;\n",
              "      cursor: pointer;\n",
              "      display: none;\n",
              "      fill: #1967D2;\n",
              "      height: 32px;\n",
              "      padding: 0 0 0 0;\n",
              "      width: 32px;\n",
              "    }\n",
              "\n",
              "    .colab-df-convert:hover {\n",
              "      background-color: #E2EBFA;\n",
              "      box-shadow: 0px 1px 2px rgba(60, 64, 67, 0.3), 0px 1px 3px 1px rgba(60, 64, 67, 0.15);\n",
              "      fill: #174EA6;\n",
              "    }\n",
              "\n",
              "    [theme=dark] .colab-df-convert {\n",
              "      background-color: #3B4455;\n",
              "      fill: #D2E3FC;\n",
              "    }\n",
              "\n",
              "    [theme=dark] .colab-df-convert:hover {\n",
              "      background-color: #434B5C;\n",
              "      box-shadow: 0px 1px 3px 1px rgba(0, 0, 0, 0.15);\n",
              "      filter: drop-shadow(0px 1px 2px rgba(0, 0, 0, 0.3));\n",
              "      fill: #FFFFFF;\n",
              "    }\n",
              "  </style>\n",
              "\n",
              "      <script>\n",
              "        const buttonEl =\n",
              "          document.querySelector('#df-f1e4ce84-0108-41d0-8098-f02ffd9835ec button.colab-df-convert');\n",
              "        buttonEl.style.display =\n",
              "          google.colab.kernel.accessAllowed ? 'block' : 'none';\n",
              "\n",
              "        async function convertToInteractive(key) {\n",
              "          const element = document.querySelector('#df-f1e4ce84-0108-41d0-8098-f02ffd9835ec');\n",
              "          const dataTable =\n",
              "            await google.colab.kernel.invokeFunction('convertToInteractive',\n",
              "                                                     [key], {});\n",
              "          if (!dataTable) return;\n",
              "\n",
              "          const docLinkHtml = 'Like what you see? Visit the ' +\n",
              "            '<a target=\"_blank\" href=https://colab.research.google.com/notebooks/data_table.ipynb>data table notebook</a>'\n",
              "            + ' to learn more about interactive tables.';\n",
              "          element.innerHTML = '';\n",
              "          dataTable['output_type'] = 'display_data';\n",
              "          await google.colab.output.renderOutput(dataTable, element);\n",
              "          const docLink = document.createElement('div');\n",
              "          docLink.innerHTML = docLinkHtml;\n",
              "          element.appendChild(docLink);\n",
              "        }\n",
              "      </script>\n",
              "    </div>\n",
              "  </div>\n",
              "  "
            ]
          },
          "metadata": {},
          "execution_count": 109
        }
      ]
    },
    {
      "cell_type": "code",
      "metadata": {
        "id": "y8sNAZ_YYlMW"
      },
      "source": [
        "cat_columns = ['Make', 'Model', 'Style', 'Fuel_type', 'Transmission'] \n",
        "num_columns = ['Year', 'Distance', 'Engine_capacity(cm3)', 'Price(euro)', 'km_year']"
      ],
      "execution_count": 110,
      "outputs": []
    },
    {
      "cell_type": "markdown",
      "metadata": {
        "id": "M_VlSUShYlMW"
      },
      "source": [
        "## Логистическая регрессия"
      ]
    },
    {
      "cell_type": "markdown",
      "metadata": {
        "id": "JSl8gha8YlMY"
      },
      "source": [
        "для начала рассмотрим значение функции активации для предельных случаев значений вероятности."
      ]
    },
    {
      "cell_type": "code",
      "metadata": {
        "scrolled": false,
        "id": "rbKFg792YlMY",
        "outputId": "6aae3ca1-78f2-4e51-8b8f-8bf9989ca0d0",
        "colab": {
          "base_uri": "https://localhost:8080/"
        }
      },
      "source": [
        "print('неопределенность (yhat=0.5, y=1):\\t %.3f'%loss(yhat=0.5, y=1))\n",
        "print('неопределенность (yhat=0.5, y=0):\\t %.3f'%loss(yhat=0.5, y=0))\n",
        "print('уверенный 0 класс (yhat=0, y=0):\\t %.3f'%loss(yhat=0.0, y=0))\n",
        "print('уверенный 1 класс(yhat=1, y=1):\\t %.3f'%loss(yhat=1, y=1))\n",
        "print('ошибочный 0 класс (yhat=0, y=1):\\t %.3f'%loss(yhat=0.0, y=1))\n",
        "print('ошибочный 1 класс(yhat=1, y=0):\\t %.3f'%loss(yhat=1, y=0))"
      ],
      "execution_count": 111,
      "outputs": [
        {
          "output_type": "stream",
          "name": "stdout",
          "text": [
            "неопределенность (yhat=0.5, y=1):\t 0.693\n",
            "неопределенность (yhat=0.5, y=0):\t 0.693\n",
            "уверенный 0 класс (yhat=0, y=0):\t -0.000\n",
            "уверенный 1 класс(yhat=1, y=1):\t -0.000\n",
            "ошибочный 0 класс (yhat=0, y=1):\t 13.816\n",
            "ошибочный 1 класс(yhat=1, y=0):\t 13.816\n"
          ]
        }
      ]
    },
    {
      "cell_type": "markdown",
      "metadata": {
        "id": "1wOlry0OYlMZ"
      },
      "source": [
        "Запишим данные для классификации."
      ]
    },
    {
      "cell_type": "code",
      "metadata": {
        "scrolled": false,
        "colab": {
          "base_uri": "https://localhost:8080/",
          "height": 206
        },
        "outputId": "6a85a94d-92c3-467c-f6a7-7da20b207900",
        "id": "AqDmH1oNYlMa"
      },
      "source": [
        "X = df[num_columns].values \n",
        "y = df[\"Transmission\"].values \n",
        "features_names = df[num_columns].columns\n",
        "\n",
        "X_train, X_test, y_train, y_test = train_test_split(X, y, test_size=0.3, random_state=42)\n",
        "\n",
        "\n",
        "scaler  = MinMaxScaler()\n",
        "X_train = scaler.fit_transform(X_train)\n",
        "X_test  = scaler.transform(X_test) \n",
        "pd.DataFrame(X_train).tail()"
      ],
      "execution_count": 112,
      "outputs": [
        {
          "output_type": "execute_result",
          "data": {
            "text/plain": [
              "          0         1         2         3         4\n",
              "22549  0.40  0.011012  0.291667  0.006513  0.005179\n",
              "22550  0.74  0.208921  0.270833  0.061112  0.297166\n",
              "22551  0.84  0.155127  0.270833  0.078146  0.343601\n",
              "22552  0.84  0.219922  0.229167  0.066132  0.487865\n",
              "22553  0.94  0.049905  0.375000  0.251503  0.248497"
            ],
            "text/html": [
              "\n",
              "  <div id=\"df-2a3d21ab-546d-4d2f-9d5d-e4fb2dbd813d\">\n",
              "    <div class=\"colab-df-container\">\n",
              "      <div>\n",
              "<style scoped>\n",
              "    .dataframe tbody tr th:only-of-type {\n",
              "        vertical-align: middle;\n",
              "    }\n",
              "\n",
              "    .dataframe tbody tr th {\n",
              "        vertical-align: top;\n",
              "    }\n",
              "\n",
              "    .dataframe thead th {\n",
              "        text-align: right;\n",
              "    }\n",
              "</style>\n",
              "<table border=\"1\" class=\"dataframe\">\n",
              "  <thead>\n",
              "    <tr style=\"text-align: right;\">\n",
              "      <th></th>\n",
              "      <th>0</th>\n",
              "      <th>1</th>\n",
              "      <th>2</th>\n",
              "      <th>3</th>\n",
              "      <th>4</th>\n",
              "    </tr>\n",
              "  </thead>\n",
              "  <tbody>\n",
              "    <tr>\n",
              "      <th>22549</th>\n",
              "      <td>0.40</td>\n",
              "      <td>0.011012</td>\n",
              "      <td>0.291667</td>\n",
              "      <td>0.006513</td>\n",
              "      <td>0.005179</td>\n",
              "    </tr>\n",
              "    <tr>\n",
              "      <th>22550</th>\n",
              "      <td>0.74</td>\n",
              "      <td>0.208921</td>\n",
              "      <td>0.270833</td>\n",
              "      <td>0.061112</td>\n",
              "      <td>0.297166</td>\n",
              "    </tr>\n",
              "    <tr>\n",
              "      <th>22551</th>\n",
              "      <td>0.84</td>\n",
              "      <td>0.155127</td>\n",
              "      <td>0.270833</td>\n",
              "      <td>0.078146</td>\n",
              "      <td>0.343601</td>\n",
              "    </tr>\n",
              "    <tr>\n",
              "      <th>22552</th>\n",
              "      <td>0.84</td>\n",
              "      <td>0.219922</td>\n",
              "      <td>0.229167</td>\n",
              "      <td>0.066132</td>\n",
              "      <td>0.487865</td>\n",
              "    </tr>\n",
              "    <tr>\n",
              "      <th>22553</th>\n",
              "      <td>0.94</td>\n",
              "      <td>0.049905</td>\n",
              "      <td>0.375000</td>\n",
              "      <td>0.251503</td>\n",
              "      <td>0.248497</td>\n",
              "    </tr>\n",
              "  </tbody>\n",
              "</table>\n",
              "</div>\n",
              "      <button class=\"colab-df-convert\" onclick=\"convertToInteractive('df-2a3d21ab-546d-4d2f-9d5d-e4fb2dbd813d')\"\n",
              "              title=\"Convert this dataframe to an interactive table.\"\n",
              "              style=\"display:none;\">\n",
              "        \n",
              "  <svg xmlns=\"http://www.w3.org/2000/svg\" height=\"24px\"viewBox=\"0 0 24 24\"\n",
              "       width=\"24px\">\n",
              "    <path d=\"M0 0h24v24H0V0z\" fill=\"none\"/>\n",
              "    <path d=\"M18.56 5.44l.94 2.06.94-2.06 2.06-.94-2.06-.94-.94-2.06-.94 2.06-2.06.94zm-11 1L8.5 8.5l.94-2.06 2.06-.94-2.06-.94L8.5 2.5l-.94 2.06-2.06.94zm10 10l.94 2.06.94-2.06 2.06-.94-2.06-.94-.94-2.06-.94 2.06-2.06.94z\"/><path d=\"M17.41 7.96l-1.37-1.37c-.4-.4-.92-.59-1.43-.59-.52 0-1.04.2-1.43.59L10.3 9.45l-7.72 7.72c-.78.78-.78 2.05 0 2.83L4 21.41c.39.39.9.59 1.41.59.51 0 1.02-.2 1.41-.59l7.78-7.78 2.81-2.81c.8-.78.8-2.07 0-2.86zM5.41 20L4 18.59l7.72-7.72 1.47 1.35L5.41 20z\"/>\n",
              "  </svg>\n",
              "      </button>\n",
              "      \n",
              "  <style>\n",
              "    .colab-df-container {\n",
              "      display:flex;\n",
              "      flex-wrap:wrap;\n",
              "      gap: 12px;\n",
              "    }\n",
              "\n",
              "    .colab-df-convert {\n",
              "      background-color: #E8F0FE;\n",
              "      border: none;\n",
              "      border-radius: 50%;\n",
              "      cursor: pointer;\n",
              "      display: none;\n",
              "      fill: #1967D2;\n",
              "      height: 32px;\n",
              "      padding: 0 0 0 0;\n",
              "      width: 32px;\n",
              "    }\n",
              "\n",
              "    .colab-df-convert:hover {\n",
              "      background-color: #E2EBFA;\n",
              "      box-shadow: 0px 1px 2px rgba(60, 64, 67, 0.3), 0px 1px 3px 1px rgba(60, 64, 67, 0.15);\n",
              "      fill: #174EA6;\n",
              "    }\n",
              "\n",
              "    [theme=dark] .colab-df-convert {\n",
              "      background-color: #3B4455;\n",
              "      fill: #D2E3FC;\n",
              "    }\n",
              "\n",
              "    [theme=dark] .colab-df-convert:hover {\n",
              "      background-color: #434B5C;\n",
              "      box-shadow: 0px 1px 3px 1px rgba(0, 0, 0, 0.15);\n",
              "      filter: drop-shadow(0px 1px 2px rgba(0, 0, 0, 0.3));\n",
              "      fill: #FFFFFF;\n",
              "    }\n",
              "  </style>\n",
              "\n",
              "      <script>\n",
              "        const buttonEl =\n",
              "          document.querySelector('#df-2a3d21ab-546d-4d2f-9d5d-e4fb2dbd813d button.colab-df-convert');\n",
              "        buttonEl.style.display =\n",
              "          google.colab.kernel.accessAllowed ? 'block' : 'none';\n",
              "\n",
              "        async function convertToInteractive(key) {\n",
              "          const element = document.querySelector('#df-2a3d21ab-546d-4d2f-9d5d-e4fb2dbd813d');\n",
              "          const dataTable =\n",
              "            await google.colab.kernel.invokeFunction('convertToInteractive',\n",
              "                                                     [key], {});\n",
              "          if (!dataTable) return;\n",
              "\n",
              "          const docLinkHtml = 'Like what you see? Visit the ' +\n",
              "            '<a target=\"_blank\" href=https://colab.research.google.com/notebooks/data_table.ipynb>data table notebook</a>'\n",
              "            + ' to learn more about interactive tables.';\n",
              "          element.innerHTML = '';\n",
              "          dataTable['output_type'] = 'display_data';\n",
              "          await google.colab.output.renderOutput(dataTable, element);\n",
              "          const docLink = document.createElement('div');\n",
              "          docLink.innerHTML = docLinkHtml;\n",
              "          element.appendChild(docLink);\n",
              "        }\n",
              "      </script>\n",
              "    </div>\n",
              "  </div>\n",
              "  "
            ]
          },
          "metadata": {},
          "execution_count": 112
        }
      ]
    },
    {
      "cell_type": "markdown",
      "metadata": {
        "id": "Iu56vUWGYlMe"
      },
      "source": [
        "Проведем тестирование без регуляризации "
      ]
    },
    {
      "cell_type": "code",
      "metadata": {
        "scrolled": false,
        "colab": {
          "base_uri": "https://localhost:8080/",
          "height": 380
        },
        "outputId": "e8765574-6380-41d1-9dcd-2cc846fb6742",
        "id": "cp3DGkmKYlMe"
      },
      "source": [
        "regr = LogisticRegression(learning_rate=0.8,epochs=1500,batch_size=5000)\n",
        "\n",
        "regr.fit(X_train, y_train)\n",
        "\n",
        "regr.plot_cost()\n",
        "\n",
        "print( 'train Accuracy: %.4f; test Accuracy: %.4f' % (regr.score(X_train, y_train), regr.score(X_test, y_test)))\n",
        "\n",
        "regr.classification_report(X_test, y_test)"
      ],
      "execution_count": 113,
      "outputs": [
        {
          "output_type": "error",
          "ename": "TypeError",
          "evalue": "ignored",
          "traceback": [
            "\u001b[0;31m---------------------------------------------------------------------------\u001b[0m",
            "\u001b[0;31mTypeError\u001b[0m                                 Traceback (most recent call last)",
            "\u001b[0;32m<ipython-input-113-03f738f74d95>\u001b[0m in \u001b[0;36m<module>\u001b[0;34m\u001b[0m\n\u001b[1;32m      1\u001b[0m \u001b[0mregr\u001b[0m \u001b[0;34m=\u001b[0m \u001b[0mLogisticRegression\u001b[0m\u001b[0;34m(\u001b[0m\u001b[0mlearning_rate\u001b[0m\u001b[0;34m=\u001b[0m\u001b[0;36m0.8\u001b[0m\u001b[0;34m,\u001b[0m\u001b[0mepochs\u001b[0m\u001b[0;34m=\u001b[0m\u001b[0;36m1500\u001b[0m\u001b[0;34m,\u001b[0m\u001b[0mbatch_size\u001b[0m\u001b[0;34m=\u001b[0m\u001b[0;36m5000\u001b[0m\u001b[0;34m)\u001b[0m\u001b[0;34m\u001b[0m\u001b[0;34m\u001b[0m\u001b[0m\n\u001b[1;32m      2\u001b[0m \u001b[0;34m\u001b[0m\u001b[0m\n\u001b[0;32m----> 3\u001b[0;31m \u001b[0mregr\u001b[0m\u001b[0;34m.\u001b[0m\u001b[0mfit\u001b[0m\u001b[0;34m(\u001b[0m\u001b[0mX_train\u001b[0m\u001b[0;34m,\u001b[0m \u001b[0my_train\u001b[0m\u001b[0;34m)\u001b[0m\u001b[0;34m\u001b[0m\u001b[0;34m\u001b[0m\u001b[0m\n\u001b[0m\u001b[1;32m      4\u001b[0m \u001b[0;34m\u001b[0m\u001b[0m\n\u001b[1;32m      5\u001b[0m \u001b[0mregr\u001b[0m\u001b[0;34m.\u001b[0m\u001b[0mplot_cost\u001b[0m\u001b[0;34m(\u001b[0m\u001b[0;34m)\u001b[0m\u001b[0;34m\u001b[0m\u001b[0;34m\u001b[0m\u001b[0m\n",
            "\u001b[0;32m<ipython-input-90-3cae9c0be990>\u001b[0m in \u001b[0;36mfit\u001b[0;34m(self, X, y)\u001b[0m\n\u001b[1;32m     92\u001b[0m \u001b[0;34m\u001b[0m\u001b[0m\n\u001b[1;32m     93\u001b[0m             \u001b[0myhat\u001b[0m         \u001b[0;34m=\u001b[0m \u001b[0mself\u001b[0m\u001b[0;34m.\u001b[0m\u001b[0mforward\u001b[0m\u001b[0;34m(\u001b[0m\u001b[0mx_batch\u001b[0m\u001b[0;34m)\u001b[0m\u001b[0;34m\u001b[0m\u001b[0;34m\u001b[0m\u001b[0m\n\u001b[0;32m---> 94\u001b[0;31m             \u001b[0mself\u001b[0m\u001b[0;34m.\u001b[0m\u001b[0mgrad\u001b[0m    \u001b[0;34m=\u001b[0m \u001b[0mself\u001b[0m\u001b[0;34m.\u001b[0m\u001b[0mgrad_step\u001b[0m\u001b[0;34m(\u001b[0m\u001b[0myhat\u001b[0m\u001b[0;34m,\u001b[0m  \u001b[0my_batch\u001b[0m\u001b[0;34m,\u001b[0m \u001b[0mx_batch\u001b[0m\u001b[0;34m)\u001b[0m\u001b[0;34m\u001b[0m\u001b[0;34m\u001b[0m\u001b[0m\n\u001b[0m\u001b[1;32m     95\u001b[0m             \u001b[0mself\u001b[0m\u001b[0;34m.\u001b[0m\u001b[0mweights\u001b[0m \u001b[0;34m=\u001b[0m \u001b[0mself\u001b[0m\u001b[0;34m.\u001b[0m\u001b[0mupdate\u001b[0m\u001b[0;34m(\u001b[0m\u001b[0;34m)\u001b[0m\u001b[0;34m\u001b[0m\u001b[0;34m\u001b[0m\u001b[0m\n\u001b[1;32m     96\u001b[0m             \u001b[0mself\u001b[0m\u001b[0;34m.\u001b[0m\u001b[0mcost\u001b[0m\u001b[0;34m[\u001b[0m\u001b[0mi\u001b[0m\u001b[0;34m]\u001b[0m \u001b[0;34m=\u001b[0m \u001b[0mself\u001b[0m\u001b[0;34m.\u001b[0m\u001b[0mloss\u001b[0m\u001b[0;34m(\u001b[0m\u001b[0myhat\u001b[0m\u001b[0;34m,\u001b[0m  \u001b[0my_batch\u001b[0m\u001b[0;34m)\u001b[0m\u001b[0;34m\u001b[0m\u001b[0;34m\u001b[0m\u001b[0m\n",
            "\u001b[0;32m<ipython-input-90-3cae9c0be990>\u001b[0m in \u001b[0;36mgrad_step\u001b[0;34m(self, yhat, y, X)\u001b[0m\n\u001b[1;32m     31\u001b[0m     \u001b[0;31m#---------------------------------\u001b[0m\u001b[0;34m\u001b[0m\u001b[0;34m\u001b[0m\u001b[0;34m\u001b[0m\u001b[0m\n\u001b[1;32m     32\u001b[0m     \u001b[0;32mdef\u001b[0m \u001b[0mgrad_step\u001b[0m\u001b[0;34m(\u001b[0m\u001b[0mself\u001b[0m\u001b[0;34m,\u001b[0m\u001b[0myhat\u001b[0m\u001b[0;34m,\u001b[0m \u001b[0my\u001b[0m\u001b[0;34m,\u001b[0m \u001b[0mX\u001b[0m\u001b[0;34m)\u001b[0m\u001b[0;34m:\u001b[0m\u001b[0;34m\u001b[0m\u001b[0;34m\u001b[0m\u001b[0m\n\u001b[0;32m---> 33\u001b[0;31m         \u001b[0;32mreturn\u001b[0m \u001b[0;36m2\u001b[0m\u001b[0;34m*\u001b[0m\u001b[0mnp\u001b[0m\u001b[0;34m.\u001b[0m\u001b[0mdot\u001b[0m\u001b[0;34m(\u001b[0m\u001b[0mX\u001b[0m\u001b[0;34m.\u001b[0m\u001b[0mT\u001b[0m\u001b[0;34m,\u001b[0m \u001b[0;34m(\u001b[0m\u001b[0myhat\u001b[0m \u001b[0;34m-\u001b[0m \u001b[0my\u001b[0m\u001b[0;34m)\u001b[0m\u001b[0;34m)\u001b[0m \u001b[0;34m/\u001b[0m \u001b[0my\u001b[0m\u001b[0;34m.\u001b[0m\u001b[0msize\u001b[0m\u001b[0;34m\u001b[0m\u001b[0;34m\u001b[0m\u001b[0m\n\u001b[0m\u001b[1;32m     34\u001b[0m \u001b[0;34m\u001b[0m\u001b[0m\n\u001b[1;32m     35\u001b[0m     \u001b[0;31m#---------------------------------\u001b[0m\u001b[0;34m\u001b[0m\u001b[0;34m\u001b[0m\u001b[0;34m\u001b[0m\u001b[0m\n",
            "\u001b[0;31mTypeError\u001b[0m: unsupported operand type(s) for -: 'float' and 'str'"
          ]
        }
      ]
    },
    {
      "cell_type": "markdown",
      "metadata": {
        "id": "SOiBO_MCYlMe"
      },
      "source": [
        "Посмотрим веса"
      ]
    },
    {
      "cell_type": "code",
      "metadata": {
        "scrolled": true,
        "id": "vYOyixz6YlMf"
      },
      "source": [
        "w, b = regr.get_w_and_b()\n",
        "plt.bar(x = range(w.size),height=w)\n",
        "plt.xticks(range(w.size),features_names, rotation = 45 );"
      ],
      "execution_count": null,
      "outputs": []
    },
    {
      "cell_type": "markdown",
      "metadata": {
        "id": "v3usjF5-YlMf"
      },
      "source": [
        "Проведем тест с регуляризацией L2"
      ]
    },
    {
      "cell_type": "code",
      "metadata": {
        "id": "AcXUHDjYYlMf"
      },
      "source": [
        "regr = LogisticRegression(learning_rate=0.8,epochs=1500,batch_size=5000, l2_penalty = 0.0001)\n",
        "\n",
        "regr.fit(X_train, y_train)\n",
        "\n",
        "regr.plot_cost()\n",
        "\n",
        "print( 'train Accuracy: %.4f; test Accuracy: %.4f' % (regr.score(X_train, y_train), regr.score(X_test, y_test)))\n",
        "\n",
        "regr.classification_report(X_test, y_test)"
      ],
      "execution_count": null,
      "outputs": []
    },
    {
      "cell_type": "code",
      "metadata": {
        "id": "x1PEJVUzYlMf"
      },
      "source": [
        "w, b = regr.get_w_and_b()\n",
        "plt.bar(x = range(w.size),height=w)\n",
        "plt.xticks(range(w.size),features_names, rotation = 45 );"
      ],
      "execution_count": null,
      "outputs": []
    },
    {
      "cell_type": "markdown",
      "metadata": {
        "id": "3G1aCGksYlMg"
      },
      "source": [
        "Проведем тест с L1 регуляризацией"
      ]
    },
    {
      "cell_type": "code",
      "metadata": {
        "scrolled": true,
        "id": "2XLUrAYFYlMg"
      },
      "source": [
        "regr = LogisticRegression(learning_rate=0.8,epochs=1500,batch_size=5000, l1_penalty = 0.005)\n",
        "\n",
        "regr.fit(X_train, y_train)\n",
        "\n",
        "regr.plot_cost()\n",
        "\n",
        "print( 'train Accuracy: %.4f; test Accuracy: %.4f' % (regr.score(X_train, y_train), regr.score(X_test, y_test)))\n",
        "\n",
        "regr.classification_report(X_test, y_test)"
      ],
      "execution_count": null,
      "outputs": []
    },
    {
      "cell_type": "code",
      "metadata": {
        "scrolled": false,
        "id": "je0XlsTyYlMg"
      },
      "source": [
        "w, b = regr.get_w_and_b()\n",
        "plt.bar(x = range(w.size),height=w)\n",
        "plt.xticks(range(w.size),features_names, rotation = 45 );"
      ],
      "execution_count": null,
      "outputs": []
    },
    {
      "cell_type": "markdown",
      "metadata": {
        "id": "FnIPJTNPYlMg"
      },
      "source": [
        "Эластичная регрессия"
      ]
    },
    {
      "cell_type": "code",
      "metadata": {
        "scrolled": true,
        "id": "V5dPfam_YlMg"
      },
      "source": [
        "regr = LogisticRegression(learning_rate=0.8,epochs=1500,batch_size=5000, l1_penalty = 0.008, l2_penalty = 0.00005)\n",
        "\n",
        "regr.fit(X_train, y_train)\n",
        "\n",
        "regr.plot_cost()\n",
        "\n",
        "print( 'train Accuracy: %.4f; test Accuracy: %.4f' % (regr.score(X_train, y_train), regr.score(X_test, y_test)))\n",
        "\n",
        "regr.classification_report(X_test, y_test)"
      ],
      "execution_count": null,
      "outputs": []
    },
    {
      "cell_type": "code",
      "metadata": {
        "id": "jHDdQf-yYlMh"
      },
      "source": [
        "w, b = regr.get_w_and_b()\n",
        "plt.bar(x = range(w.size),height=w)\n",
        "plt.xticks(range(w.size),features_names, rotation = 45 );"
      ],
      "execution_count": null,
      "outputs": []
    },
    {
      "cell_type": "markdown",
      "metadata": {
        "id": "2PVUeo39YlMh"
      },
      "source": [
        "Посмотрим, можно ли проводить классификацию без параметров связанных с расстоянием"
      ]
    },
    {
      "cell_type": "code",
      "metadata": {
        "scrolled": true,
        "id": "AuQkvThcYlMh"
      },
      "source": [
        "w, b = regr.get_w_and_b()\n",
        "\n",
        "w[1] = 0\n",
        "w[-1] = 0\n",
        "\n",
        "regr = LogisticRegression(learning_rate=0.8,\n",
        "                          epochs=1500,\n",
        "                          batch_size=5000, \n",
        "                          l1_penalty = 0.005,\n",
        "                          weights = w,\n",
        "                          bias = b)\n",
        "\n",
        "\n",
        "print( 'train ACC: %.4f; test ACC: %.4f' % (regr.score(X_train, y_train), regr.score(X_test, y_test)))\n",
        "\n",
        "regr.classification_report(X_test, y_test)"
      ],
      "execution_count": null,
      "outputs": []
    },
    {
      "cell_type": "markdown",
      "source": [],
      "metadata": {
        "id": "7yzCYjCqYpDG"
      }
    },
    {
      "cell_type": "markdown",
      "source": [
        "#One-hot кодирование"
      ],
      "metadata": {
        "id": "KPM59NB7Ypmk"
      }
    },
    {
      "cell_type": "markdown",
      "metadata": {
        "id": "LMQ3GweRYpmk"
      },
      "source": [
        "## Загрузка данных на Google Drive"
      ]
    },
    {
      "cell_type": "code",
      "metadata": {
        "id": "mhHfvRtIYpmk"
      },
      "source": [
        "uploaded = files.upload()"
      ],
      "execution_count": null,
      "outputs": []
    },
    {
      "cell_type": "markdown",
      "metadata": {
        "id": "QSuBqKCXYpml"
      },
      "source": [
        "## Считываем файл в DataFrame\n",
        "\n"
      ]
    },
    {
      "cell_type": "markdown",
      "metadata": {
        "id": "7FFksvgOYpml"
      },
      "source": [
        "метод .read_csv(path,delimiter) "
      ]
    },
    {
      "cell_type": "code",
      "metadata": {
        "id": "BYZeJdOzYpml"
      },
      "source": [
        "df = pd.read_csv('/content/cars_moldova_onehot.csv', delimiter = ',')\n",
        "df"
      ],
      "execution_count": null,
      "outputs": []
    },
    {
      "cell_type": "code",
      "metadata": {
        "id": "Nr-ZBEl-Ypml"
      },
      "source": [
        "cat_columns = ['Make', 'Model', 'Style', 'Fuel_type', 'Transmission'] \n",
        "num_columns = ['Year', 'Distance', 'Engine_capacity(cm3)', 'Price(euro)', 'km_year']"
      ],
      "execution_count": null,
      "outputs": []
    },
    {
      "cell_type": "markdown",
      "metadata": {
        "id": "OHzgiq4PYpml"
      },
      "source": [
        "## Логистическая регрессия"
      ]
    },
    {
      "cell_type": "markdown",
      "metadata": {
        "id": "4Iv7nbutYpml"
      },
      "source": [
        "Один из самых простых методов классификации — это логистическая регрессия. По существу, модель логистической регрессии представляет собой аналог линейной регрессии. Однако, если в случае линейной регрессии мы хотели провести линию через наши данные, то в случае логистической регрессии мы стремимся провести линию между двумя классами наших данных. Технически это сводится к тому, что введем функцию принятия решений для результата сопоставления наших данных и построенной линии.\n",
        "Это можно описать как следующую модель:\n",
        "$$ \\hat{y}_i = \\sigma \\left(\\sum_{j=0}^p w_jX_{ij}\\right) \\equiv \\sigma \\left(\\sum_{j=1}^p w_jX_{ij}+b\\right), $$\n",
        "где <ul>\n",
        "<li> $\\sigma$ - функция принятия решений - функция активации;\n",
        "<li> $ \\hat{y}_i$ - результат принятия решений - класс экземпляра данных.\n",
        "    </ul>\n",
        "Из некоторых статистических выводов известно, что для такой модели необходимо выбрать функцию потерь следующего вида:\n",
        "$$ L = -\\frac{1}{n}\\sum_{i=0}^{n-1}{y_i \\log{\\hat{y}_i}+(1-y_i)\\log{(1-\\hat{y}_i)}}$$\n",
        "\n",
        "и следующий вид функции активации:\n",
        "$$\\sigma(z_i) = \\frac{1}{1+\\exp(-z_i)}, $$\n",
        "где <ul>\n",
        "    <li> $z_i = \\sum_{j=0}^p w_jX_{ij} = X_iW^T$ ; \n",
        "     <li> тогда $\\hat{y}_i =\\sigma(X_iW^T) $.   </ul>\n",
        "         \n",
        "прежде чем записать выражение для градиента функции потерь запишем выражение для производной функции активации\n",
        "$$ \\sigma'(z_i) = \\frac{\\partial \\sigma(z_i)}{\\partial z_i} = (1-\\sigma(z_i))\\sigma(z_i) $$\n",
        "Градиент функции потерь для одного элемента выборки может быть выражен следующим образом:\n",
        "$$ \n",
        "\\nabla_W L_i = \n",
        "-{\n",
        "\\left(\\frac{y_i}{\\sigma(X_iW^T)}-\\frac{1-y_i}{1-\\sigma(X_iW^T)}\\right)\\sigma'(X_iW^T)\\odot X_i \n",
        "= -\\left(y_i - \\sigma(X_iW^T) \\right)\\odot X_i = -\\left(y_i - \\hat{y}_i\\right)\\odot X_i \n",
        "}\n",
        "$$\n",
        "Тогда правило обновления весовых параметров может быть записано как\n",
        "$$ W^t = W^{t-1} - \\eta\\frac{1}{n}\\sum_{i=0}^{n-1}\\left(  \\hat{y}_i -y_i\\right )\\odot X_i.$$\n",
        "Отметим, что данное выражение эквиваленто записанному для логистической регрессии с точностью до коэффициента $2$, поэтому мы учтем данный параметр путем замены $\\eta \\to \\eta/2$.\n",
        "<br>\n",
        "\n",
        "\n",
        "\n"
      ]
    },
    {
      "cell_type": "markdown",
      "metadata": {
        "id": "ptQYfyuLYpmm"
      },
      "source": [
        "рассмотрим графики функции активации сигмоид и ее производной"
      ]
    },
    {
      "cell_type": "code",
      "metadata": {
        "id": "kczvaOZBYpmm"
      },
      "source": [
        "def sigmoid(z):\n",
        "    return 1 / (1 + np.exp(-z)) \n",
        "\n",
        "def sigmoid_derivative(z):\n",
        "    return sigmoid(z)*(1-sigmoid(z)) "
      ],
      "execution_count": null,
      "outputs": []
    },
    {
      "cell_type": "code",
      "metadata": {
        "id": "sO9o3xlNYpmm"
      },
      "source": [
        "z = np.arange(-10,10,0.1)\n",
        "\n",
        "plt.figure(figsize=(16,5))\n",
        "plt.subplot(121); plt.plot(z,sigmoid(z)); plt.title('sigmoid')\n",
        "plt.subplot(122); plt.plot(z,sigmoid_derivative(z)); plt.title('sigmoid derivative')\n",
        "plt.show()"
      ],
      "execution_count": null,
      "outputs": []
    },
    {
      "cell_type": "markdown",
      "metadata": {
        "id": "ySXawMUAYpmm"
      },
      "source": [
        "Как правило, после расчета функции активации мы должны округлить значения до 0 или до 1. То есть до значения метки одного из классов. Такое округление можно сделать по заданному порогу результатов функции активации. Например, мы можем сказать, что если значение сигмоида больше 0.5 то пусть будет класс 1, а если меньше, то наоборот. \n",
        "\n",
        "Однако, на практике иногда ставят высокий порог, 0.7 - 0.8. \n",
        "\n",
        "Запишем функцию определения класса.\n",
        "\n",
        "Отметим, что в описанном смысле можно говорить о том, что результат сигмоида - это вероятность того, что аргумент функции (z) принадлежит одному из классов. Также отметим, что такой аргумент принято называть логит.\n",
        "\n"
      ]
    },
    {
      "cell_type": "code",
      "metadata": {
        "id": "HulTS7ezYpmm"
      },
      "source": [
        "def to_class(logit, threshold = 0.5):\n",
        "    return (logit>=threshold)*1"
      ],
      "execution_count": null,
      "outputs": []
    },
    {
      "cell_type": "code",
      "metadata": {
        "scrolled": true,
        "id": "1c3UnbOXYpmm"
      },
      "source": [
        "print( to_class(sigmoid(2.5), threshold = 0.7), ',',  to_class(sigmoid(-2.5), threshold = 0.7) )"
      ],
      "execution_count": null,
      "outputs": []
    },
    {
      "cell_type": "markdown",
      "metadata": {
        "id": "HLVzu8ORYpmn"
      },
      "source": [
        "Отметим, что для расчета функции потерь не следует пользоваться округлением до классов"
      ]
    },
    {
      "cell_type": "markdown",
      "metadata": {
        "id": "xBwm0wA6Ypmn"
      },
      "source": [
        "Теперь рассмотрим функцию потерь. Отметим, что значениях логорифма мы ввели небольшую константу с целью исключить ошибку вида логорифм нуля."
      ]
    },
    {
      "cell_type": "code",
      "metadata": {
        "id": "jFzdILi6Ypmn"
      },
      "source": [
        "_EPS_ = 1e-6\n",
        "def loss(yhat, y):\n",
        "    return -(y*np.log(yhat + _EPS_)+(1 - y)*np.log(1 - yhat + _EPS_)).mean()"
      ],
      "execution_count": null,
      "outputs": []
    },
    {
      "cell_type": "markdown",
      "metadata": {
        "id": "FCwdvPcFYpmn"
      },
      "source": [
        "для начала рассмотрим значение функции активации для предельных случаев значений вероятности."
      ]
    },
    {
      "cell_type": "code",
      "metadata": {
        "scrolled": false,
        "id": "Swsz7XYpYpmn"
      },
      "source": [
        "print('неопределенность (yhat=0.5, y=1):\\t %.3f'%loss(yhat=0.5, y=1))\n",
        "print('неопределенность (yhat=0.5, y=0):\\t %.3f'%loss(yhat=0.5, y=0))\n",
        "print('уверенный 0 класс (yhat=0, y=0):\\t %.3f'%loss(yhat=0.0, y=0))\n",
        "print('уверенный 1 класс(yhat=1, y=1):\\t %.3f'%loss(yhat=1, y=1))\n",
        "print('ошибочный 0 класс (yhat=0, y=1):\\t %.3f'%loss(yhat=0.0, y=1))\n",
        "print('ошибочный 1 класс(yhat=1, y=0):\\t %.3f'%loss(yhat=1, y=0))"
      ],
      "execution_count": null,
      "outputs": []
    },
    {
      "cell_type": "markdown",
      "metadata": {
        "id": "x1G5cS4LYpmn"
      },
      "source": [
        "Запишем все в один класс. Также добавим в функцию эластичную регуляризацию."
      ]
    },
    {
      "cell_type": "code",
      "metadata": {
        "id": "-tW_q08lYpmn"
      },
      "source": [
        "class LinearRegression():\n",
        "    def __init__(self, \n",
        "                 learning_rate = 0.5, \n",
        "                 epochs = 100, \n",
        "                 weights = None, \n",
        "                 bias    = None, \n",
        "                 batch_size   = 1000, \n",
        "                 random_state = 42):\n",
        "        self.lr      = learning_rate\n",
        "        self.epochs  = epochs\n",
        "        self.weights = weights\n",
        "        self.bias    = bias\n",
        "        self.seed    = random_state\n",
        "        self.batch_size = batch_size\n",
        "        self.cost    = np.zeros(epochs)\n",
        "        \n",
        "        # если веса и смещения заданы\n",
        "        if not(self.weights is None) and (self.bias):\n",
        "            if self.weights.size == X.shape[1]:\n",
        "            #совмещаем в один массив, если мы этого не сделали\n",
        "                self.weights = np.append(self.bias,self.weights)\n",
        "    \n",
        "    #---------------------------------\n",
        "    def forward(self, X):\n",
        "        return self.weights.dot(X.T)\n",
        "    \n",
        "    #---------------------------------\n",
        "    def loss(self,yhat, y):\n",
        "        return np.square(yhat - y).sum()/y.size\n",
        "    \n",
        "    #---------------------------------\n",
        "    def grad_step(self,yhat, y, X):\n",
        "        return 2*np.dot(X.T, (yhat - y)) / y.size\n",
        "    \n",
        "    #---------------------------------\n",
        "    def update(self):    \n",
        "        return self.weights - self.lr*self.grad\n",
        "    \n",
        "    #---------------------------------\n",
        "    def init(self, weights_size):\n",
        "        np.random.seed(self.seed)\n",
        "        return np.random.randn(weights_size)/np.sqrt(weights_size)\n",
        "    \n",
        "    #---------------------------------\n",
        "    def add_bias(self, X):\n",
        "        return np.column_stack((np.ones(X.shape[0]), X))\n",
        "\n",
        "    #---------------------------------\n",
        "    def predict(self, X):\n",
        "        yhat = self.forward(self.add_bias(X))\n",
        "        return yhat\n",
        "    \n",
        "    #---------------------------------\n",
        "    def score(self, X, y):        \n",
        "        yhat = self.predict(X)\n",
        "        return 1-np.sum(np.square(y-yhat))/np.sum(np.square(y-np.mean(y)))\n",
        "\n",
        "     #---------------------------------\n",
        "    def load_batch(self,X,y):\n",
        "        idx_batch = np.random.randint(0,X.shape[0],self.batch_size)\n",
        "        x_batch   = np.take(X, idx_batch, axis=0)\n",
        "        x_batch   = self.add_bias(x_batch)\n",
        "        y_batch   = np.take(y, idx_batch)\n",
        "        return  x_batch, y_batch\n",
        "\n",
        "    #---------------------------------\n",
        "    def fit(self, X, y):\n",
        "\n",
        "        np.random.seed(self.seed)\n",
        "        \n",
        "        if self.weights is None:\n",
        "            self.weights = self.init(X.shape[1])\n",
        "        \n",
        "        if self.bias is None: \n",
        "            self.bias    = self.init(1)\n",
        "        \n",
        "        if self.weights.size == X.shape[1]:\n",
        "            #совмещаем в один массив, если мы этого не сделали\n",
        "            self.weights = np.append(self.bias,self.weights)\n",
        "        \n",
        "        self.grad    = np.zeros(self.weights.shape)\n",
        "        self.cost    = np.zeros(self.epochs)\n",
        "\n",
        "        if self.batch_size is None:            \n",
        "            x_batch   = self.add_bias(X)\n",
        "            y_batch   = y\n",
        "        \n",
        "        for i in range(self.epochs): \n",
        "\n",
        "            if self.batch_size: \n",
        "                x_batch, y_batch = self.load_batch(X,y)\n",
        "\n",
        "            yhat         = self.forward(x_batch)\n",
        "            self.grad    = self.grad_step(yhat,  y_batch, x_batch) \n",
        "            self.weights = self.update()  \n",
        "            self.cost[i] = self.loss(yhat,  y_batch)\n",
        "\n",
        "        self.bias = self.weights[0]\n",
        "     \n",
        "    #---------------------------------\n",
        "    def plot_cost(self, figsize = (12,6)):\n",
        "        plt.figure(figsize = figsize)\n",
        "        plt.plot(self.cost,'-*')\n",
        "        plt.show()\n",
        "    \n",
        "    #---------------------------------\n",
        "    def get_w_and_b(self):\n",
        "        return (self.weights[1:], self.bias)"
      ],
      "execution_count": null,
      "outputs": []
    },
    {
      "cell_type": "code",
      "metadata": {
        "id": "PlFgEJ80Ypmo"
      },
      "source": [
        "class ElasticRegression(LinearRegression):\n",
        "    def __init__(self, \n",
        "                 learning_rate = 0.5,\n",
        "                 l1_penalty = 0.001,\n",
        "                 l2_penalty = 0.001,\n",
        "                 epochs = 100, \n",
        "                 weights = None, \n",
        "                 bias    = None, \n",
        "                 batch_size   = 1000, \n",
        "                 random_state = 42):\n",
        "        \n",
        "        super().__init__(learning_rate = learning_rate,\n",
        "                         epochs = epochs, \n",
        "                         weights = weights, \n",
        "                         bias    = bias, \n",
        "                         batch_size   = batch_size, \n",
        "                         random_state = random_state)\n",
        "        self.l1_penalty = l1_penalty\n",
        "        self.l2_penalty = l2_penalty\n",
        "    #---------------------------------\n",
        "    def loss(self,yhat, y):   \n",
        "        l1_term = self.l1_penalty*np.sum(self.weights[1:])/y.size\n",
        "        l2_term = (self.l2_penalty/2)*np.sum(np.square(self.weights[1:]))/y.size\n",
        "        return np.square(yhat - y).mean() + l1_term + l2_term\n",
        "                  \n",
        "    \n",
        "    #---------------------------------\n",
        "    def update(self):    \n",
        "        l2_term = self.l2_penalty*np.sum(self.weights[1:])\n",
        "        return self.weights - self.lr*(self.grad + np.sign(self.weights)* self.l1_penalty + l2_term)"
      ],
      "execution_count": null,
      "outputs": []
    },
    {
      "cell_type": "code",
      "metadata": {
        "id": "_Wj2vupPYpmo"
      },
      "source": [
        "_EPS_ = 1e-6\n",
        "\n",
        "class LogisticRegression(ElasticRegression):\n",
        "    def __init__(self, \n",
        "                 learning_rate = 0.5,\n",
        "                 l1_penalty = 0.0,\n",
        "                 l2_penalty = 0.0,\n",
        "                 epochs = 100, \n",
        "                 weights = None, \n",
        "                 bias    = None, \n",
        "                 threshold = 0.5,\n",
        "                 batch_size   = 1000, \n",
        "                 random_state = 42):\n",
        "        \n",
        "        super().__init__(learning_rate = learning_rate,\n",
        "                         epochs = epochs, \n",
        "                         weights = weights, \n",
        "                         bias    = bias, \n",
        "                         batch_size   = batch_size, \n",
        "                         random_state = random_state,\n",
        "                         l1_penalty = l1_penalty,\n",
        "                         l2_penalty = l2_penalty)       \n",
        "        self.learning_rate = learning_rate/2\n",
        "        self.threshold = threshold\n",
        "    \n",
        "    #---------------------------------    \n",
        "    def loss(self,yhat, y):\n",
        "        \n",
        "        l1_term = self.l1_penalty*np.sum(self.weights[1:])/y.size\n",
        "        l2_term = (self.l2_penalty/2)*np.sum(np.square(self.weights[1:]))/y.size\n",
        "        \n",
        "        return -(y*np.log(yhat  + _EPS_)+(1 - y)*np.log(1 - yhat  + _EPS_)).mean()\\\n",
        "            + l1_term+ l2_term \n",
        "    \n",
        "    #---------------------------------\n",
        "    def sigmoid(self, z):\n",
        "        return 1 / (1 + np.exp(-z)) \n",
        "    \n",
        "    #---------------------------------\n",
        "    def forward(self, X):        \n",
        "        return self.sigmoid(self.weights.dot(X.T))\n",
        "    \n",
        "    #---------------------------------\n",
        "    def to_class(self,logit):\n",
        "        return (logit>=self.threshold)*1\n",
        "    \n",
        "    #---------------------------------\n",
        "    def predict(self, X):\n",
        "        yhat = self.forward(self.add_bias(X))\n",
        "        \n",
        "        if self.threshold:\n",
        "            return self.to_class(yhat)\n",
        "        else:\n",
        "            return yhat\n",
        "    #---------------------------------\n",
        "    def score(self, X, y):\n",
        "        yhat  = self.predict(X)\n",
        "        return sum((yhat==y)*1)/y.size\n",
        "    \n",
        "    #---------------------------------\n",
        "    def classification_report(self, X,y):\n",
        "        tp = 0 # true_positives\n",
        "        tn = 0 # true_negatives\n",
        "        fp = 0 # false_positives\n",
        "        fn = 0 # false_negatives\n",
        "        \n",
        "        yhat  = self.predict(X)\n",
        "        total = yhat.size\n",
        "        \n",
        "        for yhati,yi in zip(yhat,y):\n",
        "            if yi == 1 and yhati == 1:\n",
        "                tp += 1\n",
        "            elif yi == 0 and yhati == 0:\n",
        "                tn += 1\n",
        "            elif yi == 1 and yhati == 0:\n",
        "                fn += 1\n",
        "            elif yi == 0 and yhati == 1:\n",
        "                fp += 1\n",
        "\n",
        "        print('True Positives:%.0f'%(tp), end = '\\t')\n",
        "        print('False Positives:%.0f'%(fp))\n",
        "        print('False Negatives:%.0f'%(fn), end = '\\t')\n",
        "        print('True Negatives:%.0f'%(tn))\n",
        "        \n",
        "        print('Accuracy:%.4f'% ((tp + tn) / total))\n",
        "        print('Recall:%.4f'% (tp / (tp + fn)), end = '\\t')\n",
        "        print('Precision:%.4f'%(tp / (tp + fp)))\n",
        "        print('f1 measure:%.4f'%(tp / (tp + 0.5*(fp+fn))))"
      ],
      "execution_count": null,
      "outputs": []
    },
    {
      "cell_type": "markdown",
      "metadata": {
        "id": "bI1ixwOHYpmo"
      },
      "source": [
        "Запишим данные для классификации."
      ]
    },
    {
      "cell_type": "code",
      "metadata": {
        "scrolled": false,
        "id": "5hAHEtYiYpmo"
      },
      "source": [
        "X = df[num_columns].values \n",
        "y = df[\"Transmission\"].values \n",
        "features_names = df[num_columns].columns\n",
        "\n",
        "X_train, X_test, y_train, y_test = train_test_split(X, y, test_size=0.3, random_state=42)\n",
        "\n",
        "\n",
        "scaler  = MinMaxScaler()\n",
        "X_train = scaler.fit_transform(X_train)\n",
        "X_test  = scaler.transform(X_test) \n",
        "pd.DataFrame(X_train).tail()"
      ],
      "execution_count": null,
      "outputs": []
    },
    {
      "cell_type": "markdown",
      "metadata": {
        "id": "x0wgMOdaYpmp"
      },
      "source": [
        "Проведем тестирование без регуляризации "
      ]
    },
    {
      "cell_type": "code",
      "metadata": {
        "scrolled": false,
        "id": "2ZKMncSMYpmp"
      },
      "source": [
        "regr = LogisticRegression(learning_rate=0.8,epochs=1500,batch_size=5000)\n",
        "\n",
        "regr.fit(X_train, y_train)\n",
        "\n",
        "regr.plot_cost()\n",
        "\n",
        "print( 'train Accuracy: %.4f; test Accuracy: %.4f' % (regr.score(X_train, y_train), regr.score(X_test, y_test)))\n",
        "\n",
        "regr.classification_report(X_test, y_test)"
      ],
      "execution_count": null,
      "outputs": []
    },
    {
      "cell_type": "markdown",
      "metadata": {
        "id": "_iV79e1hYpmp"
      },
      "source": [
        "Посмотрим веса"
      ]
    },
    {
      "cell_type": "code",
      "metadata": {
        "scrolled": true,
        "id": "fre306oGYpmq"
      },
      "source": [
        "w, b = regr.get_w_and_b()\n",
        "plt.bar(x = range(w.size),height=w)\n",
        "plt.xticks(range(w.size),features_names, rotation = 45 );"
      ],
      "execution_count": null,
      "outputs": []
    },
    {
      "cell_type": "markdown",
      "metadata": {
        "id": "85jhTa9iYpmq"
      },
      "source": [
        "Проведем тест с регуляризацией L2"
      ]
    },
    {
      "cell_type": "code",
      "metadata": {
        "id": "FeyYg53GYpmq"
      },
      "source": [
        "regr = LogisticRegression(learning_rate=0.8,epochs=1500,batch_size=5000, l2_penalty = 0.0001)\n",
        "\n",
        "regr.fit(X_train, y_train)\n",
        "\n",
        "regr.plot_cost()\n",
        "\n",
        "print( 'train Accuracy: %.4f; test Accuracy: %.4f' % (regr.score(X_train, y_train), regr.score(X_test, y_test)))\n",
        "\n",
        "regr.classification_report(X_test, y_test)"
      ],
      "execution_count": null,
      "outputs": []
    },
    {
      "cell_type": "code",
      "metadata": {
        "id": "1ktOYDb_Ypmq"
      },
      "source": [
        "w, b = regr.get_w_and_b()\n",
        "plt.bar(x = range(w.size),height=w)\n",
        "plt.xticks(range(w.size),features_names, rotation = 45 );"
      ],
      "execution_count": null,
      "outputs": []
    },
    {
      "cell_type": "markdown",
      "metadata": {
        "id": "eN1mUk5KYpmr"
      },
      "source": [
        "Проведем тест с L1 регуляризацией"
      ]
    },
    {
      "cell_type": "code",
      "metadata": {
        "scrolled": true,
        "id": "OG8tApenYpmr"
      },
      "source": [
        "regr = LogisticRegression(learning_rate=0.8,epochs=1500,batch_size=5000, l1_penalty = 0.005)\n",
        "\n",
        "regr.fit(X_train, y_train)\n",
        "\n",
        "regr.plot_cost()\n",
        "\n",
        "print( 'train Accuracy: %.4f; test Accuracy: %.4f' % (regr.score(X_train, y_train), regr.score(X_test, y_test)))\n",
        "\n",
        "regr.classification_report(X_test, y_test)"
      ],
      "execution_count": null,
      "outputs": []
    },
    {
      "cell_type": "code",
      "metadata": {
        "scrolled": false,
        "id": "_XY0Kxv8Ypmr"
      },
      "source": [
        "w, b = regr.get_w_and_b()\n",
        "plt.bar(x = range(w.size),height=w)\n",
        "plt.xticks(range(w.size),features_names, rotation = 45 );"
      ],
      "execution_count": null,
      "outputs": []
    },
    {
      "cell_type": "markdown",
      "metadata": {
        "id": "CQnwDSo5Ypms"
      },
      "source": [
        "Эластичная регрессия"
      ]
    },
    {
      "cell_type": "code",
      "metadata": {
        "scrolled": true,
        "id": "-xbuyx9YYpms"
      },
      "source": [
        "regr = LogisticRegression(learning_rate=0.8,epochs=1500,batch_size=5000, l1_penalty = 0.008, l2_penalty = 0.00005)\n",
        "\n",
        "regr.fit(X_train, y_train)\n",
        "\n",
        "regr.plot_cost()\n",
        "\n",
        "print( 'train Accuracy: %.4f; test Accuracy: %.4f' % (regr.score(X_train, y_train), regr.score(X_test, y_test)))\n",
        "\n",
        "regr.classification_report(X_test, y_test)"
      ],
      "execution_count": null,
      "outputs": []
    },
    {
      "cell_type": "code",
      "metadata": {
        "id": "Ab8LWQPOYpms"
      },
      "source": [
        "w, b = regr.get_w_and_b()\n",
        "plt.bar(x = range(w.size),height=w)\n",
        "plt.xticks(range(w.size),features_names, rotation = 45 );"
      ],
      "execution_count": null,
      "outputs": []
    },
    {
      "cell_type": "markdown",
      "metadata": {
        "id": "dCflxPz7Ypms"
      },
      "source": [
        "Посмотрим, можно ли проводить классификацию без параметров связанных с расстоянием"
      ]
    },
    {
      "cell_type": "code",
      "metadata": {
        "scrolled": true,
        "id": "0ibYTtDvYpms"
      },
      "source": [
        "w, b = regr.get_w_and_b()\n",
        "\n",
        "w[1] = 0\n",
        "w[-1] = 0\n",
        "\n",
        "regr = LogisticRegression(learning_rate=0.8,\n",
        "                          epochs=1500,\n",
        "                          batch_size=5000, \n",
        "                          l1_penalty = 0.005,\n",
        "                          weights = w,\n",
        "                          bias = b)\n",
        "\n",
        "\n",
        "print( 'train ACC: %.4f; test ACC: %.4f' % (regr.score(X_train, y_train), regr.score(X_test, y_test)))\n",
        "\n",
        "regr.classification_report(X_test, y_test)"
      ],
      "execution_count": null,
      "outputs": []
    }
  ]
}